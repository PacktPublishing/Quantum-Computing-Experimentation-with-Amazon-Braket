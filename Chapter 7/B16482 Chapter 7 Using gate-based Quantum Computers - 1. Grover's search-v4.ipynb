{
 "cells": [
  {
   "cell_type": "markdown",
   "id": "f33ffee0",
   "metadata": {},
   "source": [
    "# Chapter 7 - Using gate-based Quantum Computers - Some basic quantum algorithms \n",
    "1.Oracle and Grover’s Search\n",
    "\n",
    "\n",
    "© 2021, 2022 Packt Publishing\n",
    "\n",
    "Written by Alex Khan"
   ]
  },
  {
   "cell_type": "code",
   "execution_count": 3,
   "id": "8a0c3cbb",
   "metadata": {},
   "outputs": [],
   "source": [
    "# Enter the S3 bucket you created during onboarding in the code below\n",
    "my_bucket = \"amazon-braket-[your bucket]\" # the name of the bucket\n",
    "my_prefix = \"[your folder]\" # the name of the folder in the bucket\n",
    "s3_folder = (my_bucket, my_prefix)"
   ]
  },
  {
   "cell_type": "code",
   "execution_count": 5,
   "id": "b461b5ca",
   "metadata": {},
   "outputs": [],
   "source": [
    "from braket.circuits import Circuit, Gate, Observable, Instruction\n",
    "from braket.devices import LocalSimulator\n",
    "from braket.aws import AwsDevice\n",
    "import matplotlib.pyplot as plt\n",
    "%matplotlib inline"
   ]
  },
  {
   "cell_type": "code",
   "execution_count": 6,
   "id": "d79e94bd",
   "metadata": {},
   "outputs": [],
   "source": [
    "from braket.aws import AwsDevice"
   ]
  },
  {
   "cell_type": "code",
   "execution_count": 7,
   "id": "ae00ea13",
   "metadata": {},
   "outputs": [],
   "source": [
    "def available_devices():\n",
    "    from braket.aws import AwsDevice\n",
    "    device_list=AwsDevice.get_devices(statuses=['ONLINE'])\n",
    "    device_name_list=[]\n",
    "    for device in device_list:\n",
    "        device_name_list.append(device.name)\n",
    "    #print('Valid device names: ',device_name_list)\n",
    "    return(device_name_list)"
   ]
  },
  {
   "cell_type": "code",
   "execution_count": 8,
   "id": "6661f0ac",
   "metadata": {},
   "outputs": [],
   "source": [
    "def set_device(Name):\n",
    "    device_list=AwsDevice.get_devices(names=Name)\n",
    "    if len(device_list)==1:\n",
    "        device=device_list[0]\n",
    "        print(device)\n",
    "        return(device)\n",
    "    else:\n",
    "        print('No device found')\n",
    "        print('use name from list', available_devices())"
   ]
  },
  {
   "cell_type": "code",
   "execution_count": 9,
   "id": "1bbfcf6f",
   "metadata": {},
   "outputs": [],
   "source": [
    "def estimate_cost(device,num_shots=1000):\n",
    "    #device=set_device(Name)\n",
    "    cost_per_task=0.30\n",
    "    Name=device.name\n",
    "    if Name in ['SV1','TN1','dm1']:\n",
    "        price_per_min=device.properties.service.deviceCost.price\n",
    "        unit=device.properties.service.deviceCost.unit\n",
    "        print('simulator cost per ',unit,': $', price_per_min)\n",
    "        print('total cost cannot be estimated')\n",
    "    elif Name in['Advantage_system1.1','DW_2000Q_6','Aspen-9','IonQ Device']:\n",
    "        price_per_shot=device.properties.service.deviceCost.price\n",
    "        unit=device.properties.service.deviceCost.unit\n",
    "        print('device cost per ',unit,': $', price_per_shot)\n",
    "        print('total cost for {} shots is ${:.2f}'.format(num_shots,cost_per_task+num_shots*price_per_shot))\n",
    "    else:\n",
    "        print('device not found')\n",
    "        print('use name from list', available_devices())\n"
   ]
  },
  {
   "cell_type": "code",
   "execution_count": 10,
   "id": "d1ad9fa6",
   "metadata": {},
   "outputs": [],
   "source": [
    "# This function was modified with a return of num_shots\n",
    "def estimate_cost_measured_qubits(device,measured_qubits):\n",
    "    #device=set_device(Name)\n",
    "    min_shots_per_variable=25\n",
    "    max_shots=device.properties.service.shotsRange[1]\n",
    "    print('max shots:', max_shots)\n",
    "    num_shots=min_shots_per_variable*2**measured_qubits\n",
    "    if num_shots>max_shots:\n",
    "        num_shots=max_shots\n",
    "        print('for {} measured qubits the maximum allowed shots: {:,}'.format(measured_qubits,num_shots))\n",
    "    else:\n",
    "        print('for {} measured qubits the number of shots recommended: {:,}'.format(measured_qubits,num_shots))\n",
    "    estimate_cost(device,num_shots)\n",
    "    return(num_shots)"
   ]
  },
  {
   "cell_type": "code",
   "execution_count": 11,
   "id": "68ed75b5",
   "metadata": {},
   "outputs": [],
   "source": [
    "def actual_simulator_cost(device, result):\n",
    "        price_per_min=device.properties.service.deviceCost.price\n",
    "        price_per_ms=price_per_min/60/1000\n",
    "        unit=device.properties.service.deviceCost.unit\n",
    "        duration_ms=result.additional_metadata.simulatorMetadata.executionDuration\n",
    "        if unit=='minute':\n",
    "            print('simulator cost per ',unit,': $', price_per_min)\n",
    "            print('total execution time: ', duration_ms, \"ms\")\n",
    "            print('total cost estimated: $',duration_ms*price_per_ms)"
   ]
  },
  {
   "cell_type": "code",
   "execution_count": 12,
   "id": "7a4ba773",
   "metadata": {},
   "outputs": [],
   "source": [
    "# this function has been updated from the function in past chapters\n",
    "def run_circuit(circuit, local=True, device_name='', s3_folder='', display_binary=False):\n",
    "    import matplotlib.pyplot as plt\n",
    "    %matplotlib inline\n",
    "    if local==True:\n",
    "        device = LocalSimulator()\n",
    "        result = device.run(circuit, shots=1000).result()\n",
    "    else:\n",
    "        measured_qubits=len(circuit.qubits)\n",
    "        device=set_device(device_name)\n",
    "        num_reads=estimate_cost_measured_qubits(device,measured_qubits)\n",
    "        print('device', device)\n",
    "        print('num reads', num_reads)\n",
    "        result = device.run(circuit, shots=num_reads, s3_destination_folder=s3_folder).result()\n",
    "        actual_simulator_cost(device, result)\n",
    "    counts = result.measurement_counts\n",
    "    if display_binary==True:\n",
    "        print(counts)\n",
    "        plt.bar(int(counts.keys(),2), counts.values());\n",
    "        plt.xlabel('states');\n",
    "        plt.ylabel('counts');\n",
    "    else:\n",
    "        x_val=[]\n",
    "        y_val=[]\n",
    "        dec_counts={}\n",
    "        for i in (counts.keys()):\n",
    "            x_val.append(int(i,2))\n",
    "        for i in (counts.values()):\n",
    "            y_val.append(i)\n",
    "        for i in range(len(x_val)):\n",
    "            dec_counts[x_val[i]]=y_val[i]\n",
    "        print(dec_counts)\n",
    "        plt.bar(x_val, y_val)\n",
    "\n",
    "        plt.xlabel('states');\n",
    "        plt.ylabel('counts');\n",
    "    \n",
    "    return(result)"
   ]
  },
  {
   "cell_type": "code",
   "execution_count": 13,
   "id": "16543235",
   "metadata": {},
   "outputs": [],
   "source": [
    "def run_circuit_local(circ):\n",
    "    import numpy as np\n",
    "    # This function prints the quantum circuit and calculates the final state vector\n",
    "    # This can be used for multiple qubits and only uses the local simulator\n",
    "    # The Bloch sphere is not printed\n",
    "    circ=circ.state_vector()\n",
    "    print(circ)\n",
    "    device = LocalSimulator()\n",
    "    result = device.run(circ).result()\n",
    "\n",
    "    arr_r=np.array(result.values).T\n",
    "    print(arr_r)\n",
    "    return(arr_r)"
   ]
  },
  {
   "cell_type": "code",
   "execution_count": 14,
   "id": "fa7150d6",
   "metadata": {},
   "outputs": [],
   "source": [
    "def query_circuit_db(db, n, m, limit=0, local=True, device_name=\"\"):\n",
    "    import numpy as np\n",
    "    def Us(dim):\n",
    "        Us=np.zeros((dim, dim))\n",
    "        for i in range(dim):\n",
    "            Us[i,i]=1\n",
    "        Us[dim-1,dim-1]=-1\n",
    "        return(Us)\n",
    "    \n",
    "\n",
    "    ccz=Circuit().cnot(1,2).ti(2).cnot(0,2).t(2).cnot(1,2).ti(2).cnot(0,2).t(1).t(2).cnot(0,1).t(0).ti(1).cnot(0,1)\n",
    "\n",
    "    cccz=Circuit()\n",
    "    cccz=cccz.rz(0,np.pi/16).cnot(0,1).rz(1,-np.pi/16).cnot(0,1).rz(1,np.pi/16)\n",
    "    cccz=cccz.cnot(1,2).rz(2,-np.pi/16).cnot(0,2).rz(2,np.pi/16).cnot(1,2).rz(2,-np.pi/16).cnot(0,2).rz(2,np.pi/16)\n",
    "    cccz=cccz.cnot(2,3).rz(3,-np.pi/16).cnot(0,3).rz(3,np.pi/16).cnot(1,3).rz(3,-np.pi/16).cnot(0,3).rz(3,np.pi/16)\n",
    "    cccz=cccz.cnot(2,3).rz(3,-np.pi/16).cnot(0,3).rz(3,np.pi/16).cnot(1,3).rz(3,-np.pi/16).cnot(0,3).rz(3,np.pi/16)\n",
    "    \n",
    "    \n",
    "    \n",
    "    print(db)\n",
    "    #print('total size',dim)\n",
    "    print('qubits',n)\n",
    "    if limit==0:\n",
    "        repeat=int(((2**n)/m)**(0.5))-1\n",
    "    else:\n",
    "        repeat=limit\n",
    "        \n",
    "    print('db reads',repeat)\n",
    "    Us=Us(2**n)\n",
    "    #print(Us)\n",
    "    grover=Circuit()\n",
    "    targets=[]\n",
    "    for i in range (n):\n",
    "        grover.h(i)\n",
    "        targets.append(i)\n",
    "    #print('2 ** len targets',2**len(targets), len(db))\n",
    "    for i in range (repeat):\n",
    "        grover.add(db)\n",
    "        grover.h(targets)\n",
    "        grover.x(targets)\n",
    "        if n==2:\n",
    "            grover.cz(0,1)\n",
    "        elif n==3:\n",
    "            grover.add(ccz)\n",
    "            \n",
    "        elif n==4:\n",
    "            grover.add(cccz)\n",
    "        else:\n",
    "            grover.unitary(matrix=Us, targets=targets, display_name=\"Us\")\n",
    "        \n",
    "        grover.x(targets)\n",
    "        grover.h(targets)\n",
    "    print(grover)\n",
    "    \n",
    "    if n!=2:\n",
    "        local=True\n",
    "    \n",
    "    if local==True:\n",
    "        result=run_circuit(grover)\n",
    "    else:\n",
    "        result=run_circuit(grover, False, device_name, s3_folder)\n",
    "    \n",
    "    return(result)"
   ]
  },
  {
   "cell_type": "code",
   "execution_count": null,
   "id": "d1d7681b",
   "metadata": {},
   "outputs": [],
   "source": []
  },
  {
   "cell_type": "markdown",
   "id": "5437bb04",
   "metadata": {},
   "source": [
    "### 1. Grover's search algorithm"
   ]
  },
  {
   "cell_type": "code",
   "execution_count": 32,
   "id": "46fd1ca5",
   "metadata": {},
   "outputs": [],
   "source": [
    "def init_db(n):\n",
    "    import numpy as np\n",
    "    dim=2**n\n",
    "\n",
    "    db=np.zeros((dim, dim))\n",
    "    for i in range(dim):\n",
    "        db[i,i]=1\n",
    "    print('range= 0 to ',dim-1) \n",
    "    \n",
    "    return(db,dim)"
   ]
  },
  {
   "cell_type": "code",
   "execution_count": 33,
   "id": "2da0777b",
   "metadata": {},
   "outputs": [],
   "source": [
    "def db_save(db, N):\n",
    "    db[N,N]=-1\n",
    "    return(db)"
   ]
  },
  {
   "cell_type": "code",
   "execution_count": 34,
   "id": "769e4685",
   "metadata": {},
   "outputs": [],
   "source": [
    "def insert_db(values, db):\n",
    "    import numpy as np\n",
    "    m=0\n",
    "    dim=len(db)\n",
    "    for i in values:\n",
    "        if i < dim:\n",
    "            db_save(db, i)\n",
    "            print(i, \"added to db\")\n",
    "            m+=1\n",
    "        else:\n",
    "            print(i, 'is too large, ignored')\n",
    "\n",
    "    db = np.array(db)\n",
    "    return(db, m)\n"
   ]
  },
  {
   "cell_type": "code",
   "execution_count": 86,
   "id": "0d1c3528",
   "metadata": {},
   "outputs": [],
   "source": [
    "def query_db(db, n, m, limit=0, local=True, device_name=\"\"):\n",
    "    import numpy as np\n",
    "    def Us(dim):\n",
    "        Us=np.zeros((dim, dim))\n",
    "        for i in range(dim):\n",
    "            Us[i,i]=1\n",
    "        Us[dim-1,dim-1]=-1\n",
    "        return(Us)\n",
    "    \n",
    "    dim=len(db)\n",
    "    print('total size',dim)\n",
    "    print('qubits',n)\n",
    "    if limit==0:\n",
    "        repeat=int(np.floor(((2**n)/m)**(0.5)))\n",
    "    else:\n",
    "        repeat=limit\n",
    "    print('db reads',repeat)\n",
    "    Us=Us(dim)\n",
    "    #print(Us)\n",
    "    grover=Circuit()\n",
    "    targets=[]\n",
    "    for i in range (n):\n",
    "        grover.h(i)\n",
    "        targets.append(i)\n",
    "    #print('2 ** len targets',2**len(targets), len(db))\n",
    "    for i in range (repeat):\n",
    "        grover.unitary(matrix=db, targets=targets, display_name=\"db\")\n",
    "        grover.h(targets)\n",
    "        grover.x(targets)\n",
    "        grover.unitary(matrix=Us, targets=targets, display_name=\"Us\")\n",
    "        grover.x(targets)\n",
    "        grover.h(targets)\n",
    "    #print(grover)\n",
    "    \n",
    "    if local==True:\n",
    "        result=run_circuit(grover)\n",
    "    else:\n",
    "        result=run_circuit(grover, False, device_name, s3_folder)\n",
    "    \n",
    "    return(result)"
   ]
  },
  {
   "cell_type": "code",
   "execution_count": 75,
   "id": "59cf9d75",
   "metadata": {},
   "outputs": [
    {
     "name": "stdout",
     "output_type": "stream",
     "text": [
      "range= 0 to  3\n",
      "[[1. 0. 0. 0.]\n",
      " [0. 1. 0. 0.]\n",
      " [0. 0. 1. 0.]\n",
      " [0. 0. 0. 1.]]\n"
     ]
    }
   ],
   "source": [
    "Qubits=2\n",
    "db, dim=init_db(Qubits)\n",
    "print(db)"
   ]
  },
  {
   "cell_type": "code",
   "execution_count": 76,
   "id": "0e305ca8",
   "metadata": {},
   "outputs": [
    {
     "name": "stdout",
     "output_type": "stream",
     "text": [
      "3 added to db\n",
      "[[ 1.  0.  0.  0.]\n",
      " [ 0.  1.  0.  0.]\n",
      " [ 0.  0.  1.  0.]\n",
      " [ 0.  0.  0. -1.]]\n"
     ]
    }
   ],
   "source": [
    "db, m = insert_db([3],db)\n",
    "print(db)"
   ]
  },
  {
   "cell_type": "code",
   "execution_count": 77,
   "id": "9acb3e57",
   "metadata": {},
   "outputs": [
    {
     "name": "stdout",
     "output_type": "stream",
     "text": [
      "total size 4\n",
      "qubits 2\n",
      "db reads 1\n",
      "{3: 1000}\n"
     ]
    },
    {
     "data": {
      "image/png": "[encoded data removed]",
      "text/plain": [
       "<Figure size 432x288 with 1 Axes>"
      ]
     },
     "metadata": {
      "needs_background": "light"
     },
     "output_type": "display_data"
    }
   ],
   "source": [
    "result=query_db(db, Qubits, m ,1)"
   ]
  },
  {
   "cell_type": "code",
   "execution_count": 78,
   "id": "32583dd6",
   "metadata": {},
   "outputs": [
    {
     "name": "stdout",
     "output_type": "stream",
     "text": [
      "range= 0 to  255\n",
      "0 added to db\n",
      "15 added to db\n",
      "16 added to db\n",
      "41 added to db\n",
      "140 added to db\n",
      "200 added to db\n",
      "255 added to db\n",
      "total hidden values 7\n"
     ]
    }
   ],
   "source": [
    "Qubits=8\n",
    "db, dim=init_db(Qubits)\n",
    "db, m = insert_db([0, 15, 16, 41, 140, 200, 255], db)\n",
    "print('total hidden values',m)"
   ]
  },
  {
   "cell_type": "code",
   "execution_count": 79,
   "id": "c858891b",
   "metadata": {},
   "outputs": [
    {
     "name": "stdout",
     "output_type": "stream",
     "text": [
      "[[-1.  0.  0. ...  0.  0.  0.]\n",
      " [ 0.  1.  0. ...  0.  0.  0.]\n",
      " [ 0.  0.  1. ...  0.  0.  0.]\n",
      " ...\n",
      " [ 0.  0.  0. ...  1.  0.  0.]\n",
      " [ 0.  0.  0. ...  0.  1.  0.]\n",
      " [ 0.  0.  0. ...  0.  0. -1.]]\n"
     ]
    }
   ],
   "source": [
    "print(db)"
   ]
  },
  {
   "cell_type": "code",
   "execution_count": 80,
   "id": "f43cf5fb",
   "metadata": {
    "scrolled": false
   },
   "outputs": [
    {
     "name": "stdout",
     "output_type": "stream",
     "text": [
      "total size 256\n",
      "qubits 8\n",
      "db reads 1\n",
      "{168: 3, 254: 2, 255: 37, 191: 5, 116: 4, 140: 29, 229: 3, 16: 31, 200: 45, 217: 3, 93: 4, 72: 7, 230: 7, 42: 3, 13: 4, 41: 22, 249: 7, 143: 6, 37: 5, 84: 4, 128: 5, 198: 3, 137: 2, 80: 2, 63: 4, 38: 3, 244: 4, 21: 1, 2: 6, 196: 1, 15: 23, 29: 3, 248: 5, 235: 6, 182: 4, 57: 4, 218: 4, 162: 2, 148: 3, 206: 5, 69: 5, 90: 4, 45: 2, 165: 5, 225: 2, 20: 3, 167: 4, 174: 4, 105: 1, 177: 4, 147: 4, 88: 3, 62: 3, 14: 8, 95: 5, 4: 7, 24: 5, 5: 4, 108: 3, 120: 7, 117: 3, 0: 39, 73: 5, 39: 3, 133: 3, 251: 2, 145: 5, 48: 2, 233: 6, 33: 4, 211: 4, 75: 3, 70: 3, 27: 6, 163: 3, 53: 2, 60: 1, 153: 4, 66: 8, 109: 2, 223: 3, 47: 3, 87: 3, 195: 3, 56: 4, 173: 3, 149: 4, 175: 4, 23: 2, 36: 3, 243: 2, 127: 5, 78: 1, 1: 2, 77: 3, 99: 6, 40: 2, 234: 5, 141: 4, 202: 8, 55: 2, 35: 3, 113: 6, 122: 5, 227: 1, 104: 1, 52: 2, 219: 2, 178: 2, 154: 1, 22: 7, 144: 2, 74: 3, 68: 1, 253: 2, 184: 4, 222: 2, 213: 2, 6: 3, 123: 5, 156: 7, 51: 7, 82: 3, 183: 5, 94: 3, 138: 3, 228: 3, 186: 5, 226: 2, 252: 3, 221: 3, 164: 1, 146: 2, 132: 3, 111: 4, 232: 7, 135: 5, 160: 4, 180: 2, 31: 3, 76: 2, 92: 5, 8: 6, 134: 3, 129: 2, 131: 4, 210: 3, 106: 2, 201: 5, 158: 3, 102: 5, 215: 2, 197: 2, 172: 1, 193: 4, 250: 4, 242: 4, 126: 3, 118: 2, 11: 6, 96: 1, 203: 4, 155: 3, 240: 1, 130: 2, 115: 3, 238: 4, 64: 5, 71: 2, 176: 3, 246: 3, 187: 4, 181: 2, 3: 4, 43: 5, 86: 2, 136: 6, 59: 4, 12: 3, 239: 4, 100: 4, 18: 2, 34: 2, 58: 2, 237: 1, 150: 2, 10: 4, 121: 3, 25: 1, 161: 2, 91: 2, 124: 5, 199: 1, 67: 3, 19: 2, 204: 4, 247: 5, 159: 4, 17: 3, 207: 1, 49: 1, 112: 1, 119: 1, 231: 4, 125: 3, 192: 3, 98: 2, 89: 3, 194: 2, 205: 3, 44: 4, 190: 2, 214: 3, 110: 2, 236: 1, 189: 2, 209: 1, 139: 3, 103: 1, 101: 4, 171: 3, 65: 4, 169: 3, 97: 1, 216: 1, 85: 1, 157: 3, 81: 1, 26: 1, 32: 5, 114: 3, 107: 1, 208: 1, 241: 3, 188: 1, 28: 1, 151: 2, 30: 2, 220: 3, 185: 3, 7: 2, 212: 1, 152: 3, 61: 1, 170: 2, 166: 2, 179: 1}\n"
     ]
    },
    {
     "data": {
      "image/png": "[encoded data removed]",
      "text/plain": [
       "<Figure size 432x288 with 1 Axes>"
      ]
     },
     "metadata": {
      "needs_background": "light"
     },
     "output_type": "display_data"
    }
   ],
   "source": [
    "# run on local simulator\n",
    "result=query_db(db, Qubits, m ,1)"
   ]
  },
  {
   "cell_type": "code",
   "execution_count": 81,
   "id": "c69b492a",
   "metadata": {},
   "outputs": [
    {
     "data": {
      "text/plain": [
       "['Advantage_system4.1', 'DW_2000Q_6', 'IonQ Device', 'SV1', 'TN1', 'dm1']"
      ]
     },
     "execution_count": 81,
     "metadata": {},
     "output_type": "execute_result"
    }
   ],
   "source": [
    "available_devices()"
   ]
  },
  {
   "cell_type": "code",
   "execution_count": 87,
   "id": "d1a04b58",
   "metadata": {},
   "outputs": [
    {
     "name": "stdout",
     "output_type": "stream",
     "text": [
      "range= 0 to  127\n",
      "0 added to db\n",
      "15 added to db\n",
      "16 added to db\n",
      "41 added to db\n",
      "140 is too large, ignored\n",
      "200 is too large, ignored\n",
      "255 is too large, ignored\n",
      "total hidden values 4\n"
     ]
    }
   ],
   "source": [
    "Qubits=7\n",
    "db, dim=init_db(Qubits)\n",
    "db, m = insert_db([0, 15, 16, 41, 140, 200, 255], db)\n",
    "print('total hidden values',m)"
   ]
  },
  {
   "cell_type": "code",
   "execution_count": 89,
   "id": "027a9cba",
   "metadata": {},
   "outputs": [
    {
     "name": "stdout",
     "output_type": "stream",
     "text": [
      "total size 128\n",
      "qubits 7\n",
      "db reads 4\n",
      "Device('name': SV1, 'arn': arn:aws:braket:::device/quantum-simulator/amazon/sv1)\n",
      "max shots: 100000\n",
      "for 7 measured qubits the number of shots recommended: 3,200\n",
      "simulator cost per  minute : $ 0.075\n",
      "total cost cannot be estimated\n",
      "device Device('name': SV1, 'arn': arn:aws:braket:::device/quantum-simulator/amazon/sv1)\n",
      "num reads 3200\n",
      "simulator cost per  minute : $ 0.075\n",
      "total execution time:  483 ms\n",
      "total cost estimated: $ 0.00060375\n",
      "{41: 805, 15: 779, 16: 815, 0: 800, 88: 1}\n"
     ]
    },
    {
     "data": {
      "image/png": "[encoded data removed]",
      "text/plain": [
       "<Figure size 432x288 with 1 Axes>"
      ]
     },
     "metadata": {
      "needs_background": "light"
     },
     "output_type": "display_data"
    }
   ],
   "source": [
    "result=query_db(db, Qubits, m, 0, False, 'SV1' )"
   ]
  },
  {
   "cell_type": "markdown",
   "id": "7ba1f56e",
   "metadata": {},
   "source": [
    "## Amplitude amplification using quantum circuits and execution on a quantum device"
   ]
  },
  {
   "cell_type": "code",
   "execution_count": 176,
   "id": "fdb2647e",
   "metadata": {},
   "outputs": [
    {
     "name": "stdout",
     "output_type": "stream",
     "text": [
      "T  : |0|\n",
      "        \n",
      "q0 : -C-\n",
      "      | \n",
      "q1 : -Z-\n",
      "\n",
      "T  : |0|\n"
     ]
    }
   ],
   "source": [
    "db=Circuit().cz(0,1)\n",
    "print(db)"
   ]
  },
  {
   "cell_type": "code",
   "execution_count": 175,
   "id": "5bb9ec13",
   "metadata": {},
   "outputs": [
    {
     "name": "stdout",
     "output_type": "stream",
     "text": [
      "T  : |0|\n",
      "        \n",
      "q0 : -C-\n",
      "      | \n",
      "q1 : -Z-\n",
      "\n",
      "T  : |0|\n",
      "qubits 2\n",
      "db reads 1\n",
      "T  : |0|1|2|3|4|5|6|\n",
      "                    \n",
      "q0 : -H-C-H-X-C-X-H-\n",
      "        |     |     \n",
      "q1 : -H-Z-H-X-Z-X-H-\n",
      "\n",
      "T  : |0|1|2|3|4|5|6|\n",
      "{3: 1000}\n"
     ]
    },
    {
     "data": {
      "image/png": "[encoded data removed]",
      "text/plain": [
       "<Figure size 432x288 with 1 Axes>"
      ]
     },
     "metadata": {
      "needs_background": "light"
     },
     "output_type": "display_data"
    }
   ],
   "source": [
    "result=query_circuit_db(db, 2, 1)"
   ]
  },
  {
   "cell_type": "code",
   "execution_count": 180,
   "id": "d0376a98",
   "metadata": {},
   "outputs": [
    {
     "name": "stdout",
     "output_type": "stream",
     "text": [
      "T  : |0|1|\n",
      "          \n",
      "q0 : -C-C-\n",
      "      | | \n",
      "q1 : -Z-|-\n",
      "        | \n",
      "q2 : ---Z-\n",
      "\n",
      "T  : |0|1|\n"
     ]
    }
   ],
   "source": [
    "db=Circuit().cz(0,1).cz(0,2)\n",
    "print(db)"
   ]
  },
  {
   "cell_type": "code",
   "execution_count": 193,
   "id": "c67559ac",
   "metadata": {},
   "outputs": [
    {
     "name": "stdout",
     "output_type": "stream",
     "text": [
      "T  : |0|1|\n",
      "          \n",
      "q0 : -C-C-\n",
      "      | | \n",
      "q1 : -Z-|-\n",
      "        | \n",
      "q2 : ---Z-\n",
      "\n",
      "T  : |0|1|\n",
      "qubits 3\n",
      "db reads 1\n",
      "T  : |0|1| 2 |3|4|5|6 |7|8|9|10|11|12|13|14|15|16|\n",
      "                                                  \n",
      "q0 : -H-C-C---H-X------C--------C--C--T--C--X--H--\n",
      "        | |            |        |  |     |        \n",
      "q1 : -H-Z-|-H-X---C----|---C-T--|--X--Ti-X--X--H--\n",
      "          |       |    |   |    |                 \n",
      "q2 : -H---Z---H-X-X-Ti-X-T-X-Ti-X--T--X--H--------\n",
      "\n",
      "T  : |0|1| 2 |3|4|5|6 |7|8|9|10|11|12|13|14|15|16|\n",
      "{5: 487, 6: 513}\n"
     ]
    },
    {
     "data": {
      "image/png": "[encoded data removed]",
      "text/plain": [
       "<Figure size 432x288 with 1 Axes>"
      ]
     },
     "metadata": {
      "needs_background": "light"
     },
     "output_type": "display_data"
    }
   ],
   "source": [
    "result=query_circuit_db(db, 3, 2)"
   ]
  },
  {
   "cell_type": "code",
   "execution_count": 46,
   "id": "76afb0fb",
   "metadata": {},
   "outputs": [
    {
     "name": "stdout",
     "output_type": "stream",
     "text": [
      "T  : |0|\n",
      "        \n",
      "q0 : -C-\n",
      "      | \n",
      "q1 : -Z-\n",
      "        \n",
      "q2 : -C-\n",
      "      | \n",
      "q3 : -Z-\n",
      "\n",
      "T  : |0|\n"
     ]
    }
   ],
   "source": [
    "db=Circuit().cz(0,1).cz(2,3)\n",
    "print(db)"
   ]
  },
  {
   "cell_type": "code",
   "execution_count": null,
   "id": "02ea39c7",
   "metadata": {},
   "outputs": [],
   "source": [
    "CZ=|0⟩⟨0|⊗I+|1⟩⟨1|⊗Z."
   ]
  },
  {
   "cell_type": "code",
   "execution_count": 68,
   "id": "046679b4",
   "metadata": {},
   "outputs": [
    {
     "name": "stdout",
     "output_type": "stream",
     "text": [
      "[[ 1  0  0  0]\n",
      " [ 0  1  0  0]\n",
      " [ 0  0  1  0]\n",
      " [ 0  0  0 -1]]\n"
     ]
    }
   ],
   "source": [
    "arr_cz=np.kron([[1,0],[0,0]],arr_i)+np.kron([[0,0],[0,1]], arr_z)\n",
    "print(arr_cz)"
   ]
  },
  {
   "cell_type": "code",
   "execution_count": 59,
   "id": "7ea74335",
   "metadata": {},
   "outputs": [
    {
     "name": "stdout",
     "output_type": "stream",
     "text": [
      "[[ 1  0  0  0  0  0  0  0  0  0  0  0  0  0  0  0]\n",
      " [ 0  1  0  0  0  0  0  0  0  0  0  0  0  0  0  0]\n",
      " [ 0  0  1  0  0  0  0  0  0  0  0  0  0  0  0  0]\n",
      " [ 0  0  0 -1  0  0  0  0  0  0  0  0  0  0  0  0]\n",
      " [ 0  0  0  0  1  0  0  0  0  0  0  0  0  0  0  0]\n",
      " [ 0  0  0  0  0  1  0  0  0  0  0  0  0  0  0  0]\n",
      " [ 0  0  0  0  0  0  1  0  0  0  0  0  0  0  0  0]\n",
      " [ 0  0  0  0  0  0  0 -1  0  0  0  0  0  0  0  0]\n",
      " [ 0  0  0  0  0  0  0  0  1  0  0  0  0  0  0  0]\n",
      " [ 0  0  0  0  0  0  0  0  0  1  0  0  0  0  0  0]\n",
      " [ 0  0  0  0  0  0  0  0  0  0  1  0  0  0  0  0]\n",
      " [ 0  0  0  0  0  0  0  0  0  0  0 -1  0  0  0  0]\n",
      " [ 0  0  0  0  0  0  0  0  0  0  0  0 -1  0  0  0]\n",
      " [ 0  0  0  0  0  0  0  0  0  0  0  0  0 -1  0  0]\n",
      " [ 0  0  0  0  0  0  0  0  0  0  0  0  0  0 -1  0]\n",
      " [ 0  0  0  0  0  0  0  0  0  0  0  0  0  0  0  1]]\n"
     ]
    }
   ],
   "source": [
    "arr_czcz=np.kron(arr_cz,arr_cz)\n",
    "print(arr_czcz)"
   ]
  },
  {
   "cell_type": "code",
   "execution_count": 207,
   "id": "79cc313e",
   "metadata": {
    "scrolled": false
   },
   "outputs": [
    {
     "name": "stdout",
     "output_type": "stream",
     "text": [
      "T  : |0|\n",
      "        \n",
      "q0 : -C-\n",
      "      | \n",
      "q1 : -Z-\n",
      "        \n",
      "q2 : -C-\n",
      "      | \n",
      "q3 : -Z-\n",
      "\n",
      "T  : |0|\n",
      "qubits 4\n",
      "db reads 3\n",
      "T  : |0|1|2|3|    4    |5|    6     |7|    8    |9|    10    |11|   12    |13|    14    |15|   16    |17|    18    |19|   20    |21|    22    |23|   24    |25|    26    |27 |   28    |29|    30    |31 |   32    |33|34|35|36|   37    |38|    39    |40|   41    |42|    43    |44|   45    |46|    47    |48|   49    |50|    51    |52|   53    |54|    55    |56|   57    |58|    59    |60 |   61    |62|    63    |64 |   65    |66|67|68|69|   70    |71|    72    |73|   74    |75|    76    |77|   78    |79|    80    |81|   82    |83|    84    |85|   86    |87|    88    |89|   90    |91|    92    |93 |   94    |95|    96    |97 |   98    |99|100|\n",
      "                                                                                                                                                                                                                                                                                                                                                                                                                                                                                                                                                                                                                                                                    \n",
      "q0 : -H-C-H-X-Rz(0.196)-C------------C------------------------C--------------------------C--------------------------C--------------------------C--------------------------C---------------------------C---X---------H--C--H--X--Rz(0.196)-C-------------C--------------------------C--------------------------C--------------------------C--------------------------C--------------------------C---------------------------C---X---------H--C--H--X--Rz(0.196)-C-------------C--------------------------C--------------------------C--------------------------C--------------------------C--------------------------C---------------------------C---X---------H------\n",
      "        |               |            |                        |                          |                          |                          |                          |                           |                |                  |             |                          |                          |                          |                          |                          |                           |                |                  |             |                          |                          |                          |                          |                          |                           |                   \n",
      "q1 : -H-Z-H-X-----------X-Rz(-0.196)-X-Rz(0.196)-C------------|------------C-------------|--------------------------|------------C-------------|--------------------------|-------------C--X----------|-H--------------Z--H--X------------X--Rz(-0.196)-X--Rz(0.196)-C-------------|------------C-------------|--------------------------|------------C-------------|--------------------------|-------------C--X----------|-H--------------Z--H--X------------X--Rz(-0.196)-X--Rz(0.196)-C-------------|------------C-------------|--------------------------|------------C-------------|--------------------------|-------------C--X----------|-H------------------\n",
      "                                                 |            |            |             |                          |            |             |                          |             |             |                                                              |             |            |             |                          |            |             |                          |             |             |                                                              |             |            |             |                          |            |             |                          |             |             |                   \n",
      "q2 : -H-C-H-X------------------------------------X-Rz(-0.196)-X--Rz(0.196)-X--Rz(-0.196)-X--Rz(0.196)-C-------------|------------|-------------|------------C--X----------|-H-----------|-------------|-------------------C--H--X------------------------------------X--Rz(-0.196)-X--Rz(0.196)-X--Rz(-0.196)-X--Rz(0.196)-C-------------|------------|-------------|------------C--X----------|-H-----------|-------------|-------------------C--H--X------------------------------------X--Rz(-0.196)-X--Rz(0.196)-X--Rz(-0.196)-X--Rz(0.196)-C-------------|------------|-------------|------------C--X----------|-H-----------|-------------|--------------------\n",
      "        |                                                                                             |             |            |             |            |             |             |             |                   |                                                                                                |             |            |             |            |             |             |             |                   |                                                                                                |             |            |             |            |             |             |             |                   \n",
      "q3 : -H-Z-H-X-----------------------------------------------------------------------------------------X--Rz(-0.196)-X--Rz(0.196)-X--Rz(-0.196)-X--Rz(0.196)-X--Rz(-0.196)-X---Rz(0.196)-X--Rz(-0.196)-X---Rz(0.196)-X--H--Z--H--X------------------------------------------------------------------------------------------X--Rz(-0.196)-X--Rz(0.196)-X--Rz(-0.196)-X--Rz(0.196)-X--Rz(-0.196)-X---Rz(0.196)-X--Rz(-0.196)-X---Rz(0.196)-X--H--Z--H--X------------------------------------------------------------------------------------------X--Rz(-0.196)-X--Rz(0.196)-X--Rz(-0.196)-X--Rz(0.196)-X--Rz(-0.196)-X---Rz(0.196)-X--Rz(-0.196)-X---Rz(0.196)-X--H---\n",
      "\n",
      "T  : |0|1|2|3|    4    |5|    6     |7|    8    |9|    10    |11|   12    |13|    14    |15|   16    |17|    18    |19|   20    |21|    22    |23|   24    |25|    26    |27 |   28    |29|    30    |31 |   32    |33|34|35|36|   37    |38|    39    |40|   41    |42|    43    |44|   45    |46|    47    |48|   49    |50|    51    |52|   53    |54|    55    |56|   57    |58|    59    |60 |   61    |62|    63    |64 |   65    |66|67|68|69|   70    |71|    72    |73|   74    |75|    76    |77|   78    |79|    80    |81|   82    |83|    84    |85|   86    |87|    88    |89|   90    |91|    92    |93 |   94    |95|    96    |97 |   98    |99|100|\n",
      "{13: 137, 14: 114, 12: 126, 8: 29, 3: 127, 7: 136, 2: 21, 0: 38, 5: 26, 15: 21, 11: 108, 1: 27, 6: 19, 9: 18, 10: 27, 4: 26}\n"
     ]
    },
    {
     "data": {
      "image/png": "[encoded data removed]",
      "text/plain": [
       "<Figure size 432x288 with 1 Axes>"
      ]
     },
     "metadata": {
      "needs_background": "light"
     },
     "output_type": "display_data"
    }
   ],
   "source": [
    "result=query_circuit_db(db, 4, 6,3)"
   ]
  },
  {
   "cell_type": "markdown",
   "id": "15ea25c2",
   "metadata": {},
   "source": [
    "## The Grover Operator Repetitions"
   ]
  },
  {
   "cell_type": "code",
   "execution_count": 71,
   "id": "75f81b41",
   "metadata": {},
   "outputs": [
    {
     "name": "stdout",
     "output_type": "stream",
     "text": [
      "T  : |0|1|2|\n",
      "            \n",
      "q0 : -C-C-C-\n",
      "      | | | \n",
      "q1 : -Z-|-|-\n",
      "        | | \n",
      "q2 : ---Z-|-\n",
      "          | \n",
      "q3 : -----Z-\n",
      "\n",
      "T  : |0|1|2|\n",
      "qubits 4\n",
      "db reads 2\n",
      "T  : |0|1| 2 | 3 |4|5|    6    |7|    8     |9|   10    |11|    12    |13|   14    |15|    16    |17|   18    |19|    20    |21|   22    |23|    24    |25|   26    |27|    28    |29 |   30    |31|    32    |33 |   34    |35|36|37 |38 |39|40|   41    |42|    43    |44|   45    |46|    47    |48|   49    |50|    51    |52|   53    |54|    55    |56|   57    |58|    59    |60|   61    |62|    63    |64 |   65    |66|    67    |68 |   69    |70|71|\n",
      "                                                                                                                                                                                                                                                                                                                                                                                                                                                                \n",
      "q0 : -H-C-C---C---H-X-Rz(0.196)-C------------C-------------------------C--------------------------C--------------------------C--------------------------C--------------------------C---------------------------C---X---------H--C--C---C---H--X--Rz(0.196)-C-------------C--------------------------C--------------------------C--------------------------C--------------------------C--------------------------C---------------------------C---X---------H-----\n",
      "        | |   |                 |            |                         |                          |                          |                          |                          |                           |                |  |   |                   |             |                          |                          |                          |                          |                          |                           |                   \n",
      "q1 : -H-Z-|-H-|-X---------------X-Rz(-0.196)-X-Rz(0.196)-C-------------|------------C-------------|--------------------------|------------C-------------|--------------------------|-------------C--X----------|-H--------------Z--|-H-|-X-----------------X--Rz(-0.196)-X--Rz(0.196)-C-------------|------------C-------------|--------------------------|------------C-------------|--------------------------|-------------C--X----------|-H-----------------\n",
      "          |   |                                          |             |            |             |                          |            |             |                          |             |             |                   |   |                                              |             |            |             |                          |            |             |                          |             |             |                   \n",
      "q2 : -H---Z---|-H-X--------------------------------------X--Rz(-0.196)-X--Rz(0.196)-X--Rz(-0.196)-X--Rz(0.196)-C-------------|------------|-------------|------------C--X----------|-H-----------|-------------|-------------------Z---|-H-X------------------------------------------X--Rz(-0.196)-X--Rz(0.196)-X--Rz(-0.196)-X--Rz(0.196)-C-------------|------------|-------------|------------C--X----------|-H-----------|-------------|-------------------\n",
      "              |                                                                                                |             |            |             |            |             |             |             |                       |                                                                                                    |             |            |             |            |             |             |             |                   \n",
      "q3 : -H-------Z---H-X------------------------------------------------------------------------------------------X--Rz(-0.196)-X--Rz(0.196)-X--Rz(-0.196)-X--Rz(0.196)-X--Rz(-0.196)-X---Rz(0.196)-X--Rz(-0.196)-X---Rz(0.196)-X--H------Z---H--X---------------------------------------------------------------------------------------------X--Rz(-0.196)-X--Rz(0.196)-X--Rz(-0.196)-X--Rz(0.196)-X--Rz(-0.196)-X---Rz(0.196)-X--Rz(-0.196)-X---Rz(0.196)-X--H--\n",
      "\n",
      "T  : |0|1| 2 | 3 |4|5|    6    |7|    8     |9|   10    |11|    12    |13|   14    |15|    16    |17|   18    |19|    20    |21|   22    |23|    24    |25|   26    |27|    28    |29 |   30    |31|    32    |33 |   34    |35|36|37 |38 |39|40|   41    |42|    43    |44|   45    |46|    47    |48|   49    |50|    51    |52|   53    |54|    55    |56|   57    |58|    59    |60|   61    |62|    63    |64 |   65    |66|    67    |68 |   69    |70|71|\n",
      "{14: 80, 4: 90, 1: 76, 13: 82, 11: 71, 2: 82, 3: 74, 8: 73, 5: 86, 0: 68, 7: 74, 10: 24, 6: 82, 12: 13, 15: 11, 9: 14}\n"
     ]
    },
    {
     "data": {
      "image/png": "[encoded data removed]",
      "text/plain": [
       "<Figure size 432x288 with 1 Axes>"
      ]
     },
     "metadata": {
      "needs_background": "light"
     },
     "output_type": "display_data"
    }
   ],
   "source": [
    "db=Circuit().cz(0,1).cz(0,2).cz(0,3)\n",
    "result=query_circuit_db(db, 4, 4, 2)"
   ]
  },
  {
   "cell_type": "code",
   "execution_count": 70,
   "id": "87acc606",
   "metadata": {},
   "outputs": [
    {
     "name": "stdout",
     "output_type": "stream",
     "text": [
      "T  : |0|\n",
      "        \n",
      "q0 : -C-\n",
      "      | \n",
      "q1 : -Z-\n",
      "        \n",
      "q2 : -C-\n",
      "      | \n",
      "q3 : -Z-\n",
      "\n",
      "T  : |0|\n",
      "qubits 4\n",
      "db reads 1\n",
      "T  : |0|1|2|3|    4    |5|    6     |7|    8    |9|    10    |11|   12    |13|    14    |15|   16    |17|    18    |19|   20    |21|    22    |23|   24    |25|    26    |27 |   28    |29|    30    |31 |   32    |33|34|\n",
      "                                                                                                                                                                                                                          \n",
      "q0 : -H-C-H-X-Rz(0.196)-C------------C------------------------C--------------------------C--------------------------C--------------------------C--------------------------C---------------------------C---X---------H-----\n",
      "        |               |            |                        |                          |                          |                          |                          |                           |                   \n",
      "q1 : -H-Z-H-X-----------X-Rz(-0.196)-X-Rz(0.196)-C------------|------------C-------------|--------------------------|------------C-------------|--------------------------|-------------C--X----------|-H-----------------\n",
      "                                                 |            |            |             |                          |            |             |                          |             |             |                   \n",
      "q2 : -H-C-H-X------------------------------------X-Rz(-0.196)-X--Rz(0.196)-X--Rz(-0.196)-X--Rz(0.196)-C-------------|------------|-------------|------------C--X----------|-H-----------|-------------|-------------------\n",
      "        |                                                                                             |             |            |             |            |             |             |             |                   \n",
      "q3 : -H-Z-H-X-----------------------------------------------------------------------------------------X--Rz(-0.196)-X--Rz(0.196)-X--Rz(-0.196)-X--Rz(0.196)-X--Rz(-0.196)-X---Rz(0.196)-X--Rz(-0.196)-X---Rz(0.196)-X--H--\n",
      "\n",
      "T  : |0|1|2|3|    4    |5|    6     |7|    8    |9|    10    |11|   12    |13|    14    |15|   16    |17|    18    |19|   20    |21|    22    |23|   24    |25|    26    |27 |   28    |29|    30    |31 |   32    |33|34|\n",
      "{2: 54, 8: 35, 14: 100, 6: 38, 5: 38, 10: 43, 3: 111, 15: 44, 0: 44, 1: 46, 13: 92, 7: 93, 9: 43, 4: 27, 11: 107, 12: 85}\n"
     ]
    },
    {
     "data": {
      "image/png": "[encoded data removed]",
      "text/plain": [
       "<Figure size 432x288 with 1 Axes>"
      ]
     },
     "metadata": {
      "needs_background": "light"
     },
     "output_type": "display_data"
    }
   ],
   "source": [
    "db=Circuit().cz(0,1).cz(2,3)\n",
    "result=query_circuit_db(db, 4, 4)"
   ]
  },
  {
   "cell_type": "code",
   "execution_count": 73,
   "id": "572d3489",
   "metadata": {},
   "outputs": [
    {
     "name": "stdout",
     "output_type": "stream",
     "text": [
      "T  : | 0 |\n",
      "          \n",
      "q0 : -Z---\n",
      "      |   \n",
      "q1 : -|-C-\n",
      "      | | \n",
      "q2 : -|-Z-\n",
      "      |   \n",
      "q3 : -C---\n",
      "\n",
      "T  : | 0 |\n",
      "qubits 4\n",
      "db reads 0\n",
      "T  : |0|\n",
      "        \n",
      "q0 : -H-\n",
      "        \n",
      "q1 : -H-\n",
      "        \n",
      "q2 : -H-\n",
      "        \n",
      "q3 : -H-\n",
      "\n",
      "T  : |0|\n",
      "{11: 45, 13: 73, 15: 67, 14: 51, 8: 62, 0: 64, 1: 73, 2: 65, 4: 56, 12: 72, 5: 75, 10: 66, 7: 44, 3: 77, 9: 57, 6: 53}\n"
     ]
    },
    {
     "data": {
      "image/png": "[encoded data removed]",
      "text/plain": [
       "<Figure size 432x288 with 1 Axes>"
      ]
     },
     "metadata": {
      "needs_background": "light"
     },
     "output_type": "display_data"
    }
   ],
   "source": [
    "db=Circuit().cz(3,0).cz(1,2)\n",
    "result=query_circuit_db(db, 4, 6)"
   ]
  },
  {
   "cell_type": "code",
   "execution_count": null,
   "id": "940182a0",
   "metadata": {},
   "outputs": [],
   "source": [
    "---------------------- end -----------------"
   ]
  },
  {
   "cell_type": "markdown",
   "id": "b5f6409a",
   "metadata": {},
   "source": [
    "Note on the controlled z gates used"
   ]
  },
  {
   "cell_type": "markdown",
   "id": "83b324a3",
   "metadata": {},
   "source": [
    "ccz gate from https://www.researchgate.net/publication/312023141_Fast_microwave-driven_three-qubit_gates_for_cavity-coupled_superconducting_qubits"
   ]
  },
  {
   "cell_type": "code",
   "execution_count": 157,
   "id": "cf9905b9",
   "metadata": {},
   "outputs": [
    {
     "name": "stdout",
     "output_type": "stream",
     "text": [
      "T  : |0|1 |2|3|4|5 |6|7|8 |9|\n",
      "                             \n",
      "q0 : ------C--------C-C-T--C-\n",
      "           |        | |    | \n",
      "q1 : -C----|---C-T--|-X-Ti-X-\n",
      "      |    |   |    |        \n",
      "q2 : -X-Ti-X-T-X-Ti-X-T------\n",
      "\n",
      "T  : |0|1 |2|3|4|5 |6|7|8 |9|\n"
     ]
    }
   ],
   "source": [
    "ccz=Circuit().cnot(1,2).ti(2).cnot(0,2).t(2).cnot(1,2).ti(2).cnot(0,2).t(1).t(2).cnot(0,1).t(0).ti(1).cnot(0,1)\n",
    "print(ccz)"
   ]
  },
  {
   "cell_type": "markdown",
   "id": "0c33b2ca",
   "metadata": {},
   "source": [
    "cccz gate from https://arxiv.org/pdf/2109.13223.pdf\n",
    "cccz gate from https://quantumcomputing.stackexchange.com/questions/4078/how-to-construct-a-multi-qubit-controlled-z-from-elementary-gates"
   ]
  },
  {
   "cell_type": "code",
   "execution_count": 171,
   "id": "82f124cc",
   "metadata": {},
   "outputs": [
    {
     "name": "stdout",
     "output_type": "stream",
     "text": [
      "T  : |    0    |1|    2     |3|    4    |5|    6     |7|    8    |9|    10    |11|   12    |13|    14    |15|   16    |17|    18    |19|   20    |21|    22    |23|   24    |25|    26    |27|   28    |\n",
      "                                                                                                                                                                                                        \n",
      "q0 : -Rz(0.196)-C------------C------------------------C------------------------C--------------------------C--------------------------C--------------------------C--------------------------C------------\n",
      "                |            |                        |                        |                          |                          |                          |                          |            \n",
      "q1 : -----------X-Rz(-0.196)-X-Rz(0.196)-C------------|-----------C------------|--------------------------|------------C-------------|--------------------------|------------C-------------|------------\n",
      "                                         |            |           |            |                          |            |             |                          |            |             |            \n",
      "q2 : ------------------------------------X-Rz(-0.196)-X-Rz(0.196)-X-Rz(-0.196)-X--Rz(0.196)-C-------------|------------|-------------|------------C-------------|------------|-------------|------------\n",
      "                                                                                            |             |            |             |            |             |            |             |            \n",
      "q3 : ---------------------------------------------------------------------------------------X--Rz(-0.196)-X--Rz(0.196)-X--Rz(-0.196)-X--Rz(0.196)-X--Rz(-0.196)-X--Rz(0.196)-X--Rz(-0.196)-X--Rz(0.196)-\n",
      "\n",
      "T  : |    0    |1|    2     |3|    4    |5|    6     |7|    8    |9|    10    |11|   12    |13|    14    |15|   16    |17|    18    |19|   20    |21|    22    |23|   24    |25|    26    |27|   28    |\n"
     ]
    }
   ],
   "source": [
    "cccz=Circuit()\n",
    "cccz=cccz.rz(0,np.pi/16).cnot(0,1).rz(1,-np.pi/16).cnot(0,1).rz(1,np.pi/16)\n",
    "cccz=cccz.cnot(1,2).rz(2,-np.pi/16).cnot(0,2).rz(2,np.pi/16).cnot(1,2).rz(2,-np.pi/16).cnot(0,2).rz(2,np.pi/16)\n",
    "cccz=cccz.cnot(2,3).rz(3,-np.pi/16).cnot(0,3).rz(3,np.pi/16).cnot(1,3).rz(3,-np.pi/16).cnot(0,3).rz(3,np.pi/16)\n",
    "cccz=cccz.cnot(2,3).rz(3,-np.pi/16).cnot(0,3).rz(3,np.pi/16).cnot(1,3).rz(3,-np.pi/16).cnot(0,3).rz(3,np.pi/16)\n",
    "print(cccz)"
   ]
  },
  {
   "cell_type": "code",
   "execution_count": 56,
   "id": "0a0f803c",
   "metadata": {},
   "outputs": [],
   "source": [
    "import numpy as np\n",
    "# z opeator\n",
    "arr_z=np.array([[1,0],[0,-1]])\n",
    "arr_c=np.array([[1,0],[0,1]])\n",
    "\n",
    "arr_cz=np.array([[1,0,0,0],[0,1,0,0],[0,0,1,0],[0,0,0,-1]])"
   ]
  },
  {
   "cell_type": "markdown",
   "id": "d0a7295a",
   "metadata": {},
   "source": [
    "Different trials of creating db "
   ]
  },
  {
   "cell_type": "code",
   "execution_count": 51,
   "id": "3049cb5e",
   "metadata": {},
   "outputs": [],
   "source": [
    "mr=np.kron(arr_z,arr_c)"
   ]
  },
  {
   "cell_type": "code",
   "execution_count": 52,
   "id": "f38bcccd",
   "metadata": {},
   "outputs": [
    {
     "name": "stdout",
     "output_type": "stream",
     "text": [
      "[[ 1  0  0  0]\n",
      " [ 0  1  0  0]\n",
      " [ 0  0 -1  0]\n",
      " [ 0  0  0 -1]]\n"
     ]
    }
   ],
   "source": [
    "print(mr)"
   ]
  },
  {
   "cell_type": "code",
   "execution_count": 54,
   "id": "c7543871",
   "metadata": {},
   "outputs": [
    {
     "name": "stdout",
     "output_type": "stream",
     "text": [
      "[[ 1  0  0  0]\n",
      " [ 0 -1  0  0]\n",
      " [ 0  0  1  0]\n",
      " [ 0  0  0 -1]]\n"
     ]
    }
   ],
   "source": [
    "mr=np.kron(arr_c,arr_z)\n",
    "print(mr)"
   ]
  },
  {
   "cell_type": "code",
   "execution_count": 63,
   "id": "e766e74a",
   "metadata": {},
   "outputs": [
    {
     "name": "stdout",
     "output_type": "stream",
     "text": [
      "[[ 1  0  0  0]\n",
      " [ 0 -1  0  0]\n",
      " [ 0  0 -1  0]\n",
      " [ 0  0  0  1]]\n"
     ]
    }
   ],
   "source": [
    "arr_zz=np.kron(arr_z,arr_z)\n",
    "print(arr_zz)"
   ]
  },
  {
   "cell_type": "code",
   "execution_count": 61,
   "id": "062f6460",
   "metadata": {},
   "outputs": [
    {
     "name": "stdout",
     "output_type": "stream",
     "text": [
      "[[ 1  0  0  0  0  0  0  0]\n",
      " [ 0  1  0  0  0  0  0  0]\n",
      " [ 0  0  1  0  0  0  0  0]\n",
      " [ 0  0  0 -1  0  0  0  0]\n",
      " [ 0  0  0  0  1  0  0  0]\n",
      " [ 0  0  0  0  0  1  0  0]\n",
      " [ 0  0  0  0  0  0  1  0]\n",
      " [ 0  0  0  0  0  0  0 -1]]\n"
     ]
    }
   ],
   "source": [
    "arr_ccz=np.kron(arr_c,arr_cz)\n",
    "print(arr_ccz)"
   ]
  },
  {
   "cell_type": "code",
   "execution_count": 64,
   "id": "e8e9a640",
   "metadata": {},
   "outputs": [],
   "source": [
    "arr_x=np.array([[0,1],[1,0]])\n",
    "arr_i=np.array([[1,0],[0,1]])"
   ]
  },
  {
   "cell_type": "code",
   "execution_count": null,
   "id": "730bbefc",
   "metadata": {},
   "outputs": [],
   "source": []
  }
 ],
 "metadata": {
  "kernelspec": {
   "display_name": "Python 3",
   "language": "python",
   "name": "python3"
  },
  "language_info": {
   "codemirror_mode": {
    "name": "ipython",
    "version": 3
   },
   "file_extension": ".py",
   "mimetype": "text/x-python",
   "name": "python",
   "nbconvert_exporter": "python",
   "pygments_lexer": "ipython3",
   "version": "3.8.10"
  }
 },
 "nbformat": 4,
 "nbformat_minor": 5
}

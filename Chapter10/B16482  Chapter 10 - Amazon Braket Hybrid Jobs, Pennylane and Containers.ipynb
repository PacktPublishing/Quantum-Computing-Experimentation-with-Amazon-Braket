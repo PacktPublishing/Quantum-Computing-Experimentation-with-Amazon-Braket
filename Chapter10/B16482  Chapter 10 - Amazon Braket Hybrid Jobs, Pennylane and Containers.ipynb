{
 "cells": [
  {
   "cell_type": "markdown",
   "id": "972acdf4",
   "metadata": {},
   "source": [
    "# Quantum Computing Experimentation with Amazon Braket\n",
    "### Chapter 10 - Amazon Braket Hybrid Jobs, Pennylane and other Braket Features\n",
    "\n",
    "© 2021, 2022, 2023 Packt Publishing\n",
    "\n",
    "Written by Alex Khan"
   ]
  },
  {
   "cell_type": "markdown",
   "id": "82e86c6d",
   "metadata": {},
   "source": [
    "https://docs.aws.amazon.com/braket/latest/developerguide/braket-jobs.html"
   ]
  },
  {
   "cell_type": "markdown",
   "id": "0426658b",
   "metadata": {},
   "source": [
    "pricing help\n",
    "\n",
    "\n",
    "https://aws.amazon.com/braket/pricing/#:~:text=AWS%20Free%20Tier%20gives%20you,through%20the%20Hybrid%20Jobs%20feature."
   ]
  },
  {
   "cell_type": "code",
   "execution_count": 1,
   "id": "650d6408",
   "metadata": {},
   "outputs": [],
   "source": [
    "import seaborn as sns\n",
    "import matplotlib.pyplot as plt\n",
    "from matplotlib.pyplot import figure\n",
    "import numpy as np\n",
    "import time\n",
    "%matplotlib inline\n",
    "from braket.aws import AwsQuantumJob,  AwsSession"
   ]
  },
  {
   "cell_type": "code",
   "execution_count": 7,
   "id": "e0f497dc",
   "metadata": {},
   "outputs": [],
   "source": [
    "matrix=\"ionq-matrix\"\n",
    "filename=matrix+\".csv\""
   ]
  },
  {
   "cell_type": "code",
   "execution_count": 8,
   "id": "f285fa40",
   "metadata": {},
   "outputs": [],
   "source": [
    "import time\n",
    "start=0.1\n",
    "end=0.4\n",
    "step=0.1\n",
    "shots=100\n",
    "\n",
    "param=np.round(np.arange(start,end,step,dtype=float), 2).tolist()"
   ]
  },
  {
   "cell_type": "code",
   "execution_count": 17,
   "id": "018d3646",
   "metadata": {},
   "outputs": [
    {
     "name": "stdout",
     "output_type": "stream",
     "text": [
      "QAOA-ionqmatrix-Rigetti1672074458\n"
     ]
    }
   ],
   "source": [
    "job_name=\"QAOA-ionqmatrix-Rigetti\"+str(int(time.time()))\n",
    "print(job_name)"
   ]
  },
  {
   "cell_type": "code",
   "execution_count": 18,
   "id": "82c709eb",
   "metadata": {},
   "outputs": [],
   "source": [
    "#Define hyperparameters\n",
    "#need to be strings\n",
    "hyperparameters = {\n",
    "    \"start\": str(start),\n",
    "    \"end\":str(end),\n",
    "    \"step\":str(step),\n",
    "    \"shots\":str(shots),\n",
    "    \"matrix\":matrix\n",
    "}"
   ]
  },
  {
   "cell_type": "code",
   "execution_count": 19,
   "id": "59eef159",
   "metadata": {},
   "outputs": [],
   "source": [
    "job = AwsQuantumJob.create(\n",
    "    \"arn:aws:braket:us-west-1::device/qpu/rigetti/Aspen-M-3\",\n",
    "    source_module=\"QAOA.py\", \n",
    "    entry_point=\"QAOA:start_here\",\n",
    "    job_name=job_name,\n",
    "    hyperparameters=hyperparameters,\n",
    "    input_data=filename,\n",
    "    wait_until_complete=False\n",
    ")"
   ]
  },
  {
   "cell_type": "code",
   "execution_count": 12,
   "id": "8f648159",
   "metadata": {},
   "outputs": [],
   "source": [
    "# uncomment to print out and track job_arn\n",
    "#job_arn=job.arn\n",
    "#print(job_arn)"
   ]
  },
  {
   "cell_type": "code",
   "execution_count": 13,
   "id": "87495942",
   "metadata": {},
   "outputs": [],
   "source": [
    "# uncomment and manually add the job_arn below (from previous line) if running the remainder of this code later\n",
    "#job_arn=''\n",
    "#job = AwsQuantumJob(arn=job_arn)"
   ]
  },
  {
   "cell_type": "code",
   "execution_count": 23,
   "id": "13363484",
   "metadata": {},
   "outputs": [
    {
     "name": "stdout",
     "output_type": "stream",
     "text": [
      "COMPLETED\n",
      "{'E': [-1.7500000000000002, -1.1300000000000003, -1.1300000000000003, -1.48, -1.0899999999999994, -0.87, -2.0500000000000003, -1.0099999999999998, -1.25, -1.5499999999999998, -0.8000000000000002, -2.0500000000000003, -0.71, -1.3999999999999997, -1.31, -0.74], 'ideal_param1': 0.2, 'ideal_param2': 0.30000000000000004, 'lowest_energy': -2.0500000000000003, 'best_energy': -2.5000000000000004, 'best_solution': '11000001111'}\n"
     ]
    }
   ],
   "source": [
    "status=job.state()\n",
    "print(status)\n",
    "if status=='COMPLETED':\n",
    "    #print(job.metadata())\n",
    "    print(job.result())"
   ]
  },
  {
   "cell_type": "code",
   "execution_count": 24,
   "id": "b1308fd3",
   "metadata": {},
   "outputs": [],
   "source": [
    "E = np.array(job.result()['E'])\n",
    "D= E.reshape(len(param), len(param))"
   ]
  },
  {
   "cell_type": "code",
   "execution_count": 25,
   "id": "7679b49f",
   "metadata": {},
   "outputs": [
    {
     "data": {
      "image/png": "[encoded data removed]",
      "text/plain": [
       "<Figure size 700x500 with 2 Axes>"
      ]
     },
     "metadata": {},
     "output_type": "display_data"
    }
   ],
   "source": [
    "plt.figure(1, figsize=[7, 5])\n",
    "sns.heatmap(D, annot=True,xticklabels=param, yticklabels=param,  linewidths=.5, cmap=\"YlGnBu\", annot_kws = {'alpha': 1})\n",
    "plt.title('parameter landscape');\n",
    "plt.tight_layout();"
   ]
  },
  {
   "cell_type": "code",
   "execution_count": 26,
   "id": "6219c547",
   "metadata": {},
   "outputs": [
    {
     "name": "stdout",
     "output_type": "stream",
     "text": [
      "ideal_param1: 0.2 ideal_param2: 0.30000000000000004 lowest_energy: -2.0500000000000003\n",
      "best_energy: -2.5000000000000004 best_solution: 11000001111\n"
     ]
    }
   ],
   "source": [
    "ideal_param1=job.result()['ideal_param1']\n",
    "ideal_param2=job.result()['ideal_param2']\n",
    "lowest_energy=job.result()['lowest_energy']\n",
    "best_energy=job.result()['best_energy']\n",
    "best_solution=job.result()['best_solution']\n",
    "print('ideal_param1:',ideal_param1,'ideal_param2:',ideal_param2,'lowest_energy:',lowest_energy)\n",
    "print('best_energy:',best_energy,'best_solution:',best_solution)"
   ]
  },
  {
   "cell_type": "code",
   "execution_count": null,
   "id": "91492b12",
   "metadata": {},
   "outputs": [],
   "source": []
  }
 ],
 "metadata": {
  "kernelspec": {
   "display_name": "Python 3 (ipykernel)",
   "language": "python",
   "name": "python3"
  },
  "language_info": {
   "codemirror_mode": {
    "name": "ipython",
    "version": 3
   },
   "file_extension": ".py",
   "mimetype": "text/x-python",
   "name": "python",
   "nbconvert_exporter": "python",
   "pygments_lexer": "ipython3",
   "version": "3.9.7"
  }
 },
 "nbformat": 4,
 "nbformat_minor": 5
}

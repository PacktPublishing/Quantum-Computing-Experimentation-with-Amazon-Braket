{
 "cells": [
  {
   "cell_type": "markdown",
   "id": "781d76e1",
   "metadata": {},
   "source": [
    "# Chapter 10 - Amazon Braket Hybrid Jobs, Pennylane and Containers\n",
    "\n",
    "\n",
    "© 2021, 2022 Packt Publishing\n",
    "\n",
    "Written by Alex Khan"
   ]
  },
  {
   "cell_type": "markdown",
   "id": "82e86c6d",
   "metadata": {},
   "source": [
    "https://docs.aws.amazon.com/braket/latest/developerguide/braket-jobs.html"
   ]
  },
  {
   "cell_type": "markdown",
   "id": "0426658b",
   "metadata": {},
   "source": [
    "pricing help\n",
    "\n",
    "\n",
    "https://aws.amazon.com/braket/pricing/#:~:text=AWS%20Free%20Tier%20gives%20you,through%20the%20Hybrid%20Jobs%20feature."
   ]
  },
  {
   "cell_type": "code",
   "execution_count": 1,
   "id": "650d6408",
   "metadata": {},
   "outputs": [],
   "source": [
    "import seaborn as sns\n",
    "import matplotlib.pyplot as plt\n",
    "from matplotlib.pyplot import figure\n",
    "import numpy as np\n",
    "import time\n",
    "%matplotlib inline\n",
    "from braket.aws import AwsQuantumJob,  AwsSession"
   ]
  },
  {
   "cell_type": "code",
   "execution_count": 2,
   "id": "e0f497dc",
   "metadata": {},
   "outputs": [],
   "source": [
    "matrix=\"ionq-matrix\"\n",
    "filename=matrix+\".csv\""
   ]
  },
  {
   "cell_type": "code",
   "execution_count": 3,
   "id": "f285fa40",
   "metadata": {},
   "outputs": [],
   "source": [
    "import time\n",
    "start=0.1\n",
    "end=0.7\n",
    "step=0.1\n",
    "shots=10\n",
    "\n",
    "param=np.round(np.arange(start,end,step,dtype=float), 2).tolist()"
   ]
  },
  {
   "cell_type": "code",
   "execution_count": 10,
   "id": "018d3646",
   "metadata": {},
   "outputs": [
    {
     "name": "stdout",
     "output_type": "stream",
     "text": [
      "QAOA-ionqmatrix-SV11646020122\n"
     ]
    }
   ],
   "source": [
    "job_name=\"QAOA-ionqmatrix-SV1\"+str(int(time.time()))\n",
    "print(job_name)"
   ]
  },
  {
   "cell_type": "code",
   "execution_count": null,
   "id": "82c709eb",
   "metadata": {},
   "outputs": [],
   "source": [
    "#Define hyperparameters\n",
    "#need to be strings\n",
    "hyperparameters = {\n",
    "    \"start\": str(start),\n",
    "    \"end\":str(end),\n",
    "    \"step\":str(step),\n",
    "    \"shots\":str(shots),\n",
    "    \"matrix\":matrix\n",
    "}"
   ]
  },
  {
   "cell_type": "code",
   "execution_count": null,
   "id": "59eef159",
   "metadata": {},
   "outputs": [],
   "source": [
    "job = AwsQuantumJob.create(\n",
    "    \"arn:aws:braket:::device/quantum-simulator/amazon/sv1\",\n",
    "    source_module=\"QAOA.py\", \n",
    "    entry_point=\"QAOA:start_here\",\n",
    "    job_name=job_name,\n",
    "    hyperparameters=hyperparameters,\n",
    "    input_data=filename,\n",
    "    wait_until_complete=False\n",
    ")"
   ]
  },
  {
   "cell_type": "code",
   "execution_count": 1,
   "id": "8f648159",
   "metadata": {},
   "outputs": [],
   "source": [
    "#job_arn=job.arn\n",
    "#print(job_arn)"
   ]
  },
  {
   "cell_type": "code",
   "execution_count": 4,
   "id": "87495942",
   "metadata": {},
   "outputs": [],
   "source": [
    "#job_arn=''\n",
    "#job = AwsQuantumJob(arn=job_arn)"
   ]
  },
  {
   "cell_type": "code",
   "execution_count": 5,
   "id": "13363484",
   "metadata": {},
   "outputs": [
    {
     "name": "stdout",
     "output_type": "stream",
     "text": [
      "COMPLETED\n",
      "{'E': [0.53, -0.24000000000000002, -1.52, -0.8399999999999995, -0.5, -0.19000000000000009, -0.879999999999999, -0.8000000000000002, -1.0899999999999994, -2.0500000000000003, -1.52, -1.7500000000000002, -0.2999999999999996, -2.5000000000000004, -1.48, -1.48, -2.0500000000000003, -2.0399999999999996, -1.7500000000000002, -1.48, -2.0500000000000003, -0.4399999999999997, -2.0500000000000003, -2.5000000000000004, -0.3399999999999998, -0.8299999999999995, -1.2099999999999995, -2.5000000000000004, -2.0500000000000003, -1.48, 0.5499999999999998, -0.79, -1.52, -1.4799999999999995, -0.93, -0.9299999999999996], 'ideal_param1': 0.30000000000000004, 'ideal_param2': 0.2, 'lowest_energy': -2.5000000000000004, 'best_energy': -2.5000000000000004, 'best_solution': '11000001111'}\n"
     ]
    }
   ],
   "source": [
    "status=job.state()\n",
    "print(status)\n",
    "if status=='COMPLETED':\n",
    "    #print(job.metadata())\n",
    "    print(job.result())"
   ]
  },
  {
   "cell_type": "code",
   "execution_count": 6,
   "id": "b1308fd3",
   "metadata": {},
   "outputs": [],
   "source": [
    "E = np.array(job.result()['E'])\n",
    "D= E.reshape(len(param), len(param))"
   ]
  },
  {
   "cell_type": "code",
   "execution_count": 7,
   "id": "7679b49f",
   "metadata": {},
   "outputs": [
    {
     "data": {
      "image/png": "[encoded data removed]",
      "text/plain": [
       "<Figure size 504x360 with 2 Axes>"
      ]
     },
     "metadata": {
      "needs_background": "light"
     },
     "output_type": "display_data"
    }
   ],
   "source": [
    "plt.figure(1, figsize=[7, 5])\n",
    "sns.heatmap(D, annot=True,xticklabels=param, yticklabels=param,  linewidths=.5, cmap=\"YlGnBu\", annot_kws = {'alpha': 1})\n",
    "plt.title('parameter landscape');\n",
    "plt.tight_layout();"
   ]
  },
  {
   "cell_type": "code",
   "execution_count": 8,
   "id": "6219c547",
   "metadata": {},
   "outputs": [
    {
     "name": "stdout",
     "output_type": "stream",
     "text": [
      "ideal_param1: 0.30000000000000004 ideal_param2: 0.2 lowest_energy: -2.5000000000000004\n",
      "best_energy: -2.5000000000000004 best_solution: 11000001111\n"
     ]
    }
   ],
   "source": [
    "ideal_param1=job.result()['ideal_param1']\n",
    "ideal_param2=job.result()['ideal_param2']\n",
    "lowest_energy=job.result()['lowest_energy']\n",
    "best_energy=job.result()['best_energy']\n",
    "best_solution=job.result()['best_solution']\n",
    "print('ideal_param1:',ideal_param1,'ideal_param2:',ideal_param2,'lowest_energy:',lowest_energy)\n",
    "print('best_energy:',best_energy,'best_solution:',best_solution)"
   ]
  },
  {
   "cell_type": "code",
   "execution_count": null,
   "id": "91492b12",
   "metadata": {},
   "outputs": [],
   "source": []
  }
 ],
 "metadata": {
  "kernelspec": {
   "display_name": "Python 3 (ipykernel)",
   "language": "python",
   "name": "python3"
  },
  "language_info": {
   "codemirror_mode": {
    "name": "ipython",
    "version": 3
   },
   "file_extension": ".py",
   "mimetype": "text/x-python",
   "name": "python",
   "nbconvert_exporter": "python",
   "pygments_lexer": "ipython3",
   "version": "3.9.7"
  }
 },
 "nbformat": 4,
 "nbformat_minor": 5
}

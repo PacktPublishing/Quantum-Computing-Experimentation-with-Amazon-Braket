{
 "cells": [
  {
   "cell_type": "markdown",
   "id": "f809fe67",
   "metadata": {},
   "source": [
    "# Chapter 5 - Using Quantum Annealer - Developing a QUBO function and using Constraints  \n",
    "### Party Optimization example\n",
    "© 2021, 2022 Packt Publishing\n",
    "\n",
    "Written by Alex Khan\n"
   ]
  },
  {
   "cell_type": "code",
   "execution_count": 12,
   "id": "a8cb8a15",
   "metadata": {},
   "outputs": [
    {
     "name": "stdout",
     "output_type": "stream",
     "text": [
      "[[0.5 nan nan nan nan nan]\n",
      " [1.0 0.0 nan nan nan nan]\n",
      " [0.5 0.25 -0.25 nan nan nan]\n",
      " [-0.5 -1.0 0.0 -0.5 nan nan]\n",
      " [-1.0 -1.0 0.25 0.5 -1.0 nan]\n",
      " [0.25 -0.25 0.0 0.5 -0.5 -0.5]]\n"
     ]
    }
   ],
   "source": [
    "import pandas as pd\n",
    "import dimod\n",
    "\n",
    "file_name='friends.csv'\n",
    "\n",
    "# Read the values into a matrix T\n",
    "Temp = pd.read_csv(file_name, ).values\n",
    "T=Temp[:,1:]\n",
    "print(T)"
   ]
  },
  {
   "cell_type": "code",
   "execution_count": 13,
   "id": "158f51d9",
   "metadata": {},
   "outputs": [
    {
     "name": "stdout",
     "output_type": "stream",
     "text": [
      "['Alice', 'Bob', 'Charlie', 'David', 'Eve', 'Frank']\n"
     ]
    }
   ],
   "source": [
    "dim=len(T[0])\n",
    "Names=['']*dim\n",
    "\n",
    "for i in range(dim):\n",
    "    Names[i]=Temp[i,0]\n",
    "print(Names)"
   ]
  },
  {
   "cell_type": "code",
   "execution_count": 14,
   "id": "9305b60d",
   "metadata": {},
   "outputs": [
    {
     "name": "stdout",
     "output_type": "stream",
     "text": [
      "{'Alice': -0.5, 'Bob': -0.0, 'Charlie': 0.25, 'David': 0.5, 'Eve': 1.0, 'Frank': 0.5}\n"
     ]
    }
   ],
   "source": [
    "# Notice we change the sign on T\n",
    "linear={Names[i]:-T[i][i] for i in range(dim)}\n",
    "quadratic={(Names[i],Names[j]):-T[i][j] for i in range(dim) for j in range(dim) if i>j}\n",
    "\n",
    "print(linear)"
   ]
  },
  {
   "cell_type": "code",
   "execution_count": 15,
   "id": "53d7c28c",
   "metadata": {},
   "outputs": [
    {
     "name": "stdout",
     "output_type": "stream",
     "text": [
      "{('Bob', 'Alice'): -1.0, ('Charlie', 'Alice'): -0.5, ('Charlie', 'Bob'): -0.25, ('David', 'Alice'): 0.5, ('David', 'Bob'): 1.0, ('David', 'Charlie'): -0.0, ('Eve', 'Alice'): 1.0, ('Eve', 'Bob'): 1.0, ('Eve', 'Charlie'): -0.25, ('Eve', 'David'): -0.5, ('Frank', 'Alice'): -0.25, ('Frank', 'Bob'): 0.25, ('Frank', 'Charlie'): -0.0, ('Frank', 'David'): -0.5, ('Frank', 'Eve'): 0.5}\n"
     ]
    }
   ],
   "source": [
    "print(quadratic)"
   ]
  },
  {
   "cell_type": "code",
   "execution_count": 16,
   "id": "d1ac96a0",
   "metadata": {},
   "outputs": [
    {
     "name": "stdout",
     "output_type": "stream",
     "text": [
      "   Alice Bob Charlie David Eve Frank energy num_oc.\n",
      "5      1   1       1     0   0     0   -2.0       1\n",
      "2      1   1       0     0   0     0   -1.5       1\n",
      "58     1   1       1     0   0     1   -1.5       1\n",
      "61     1   1       0     0   0     1   -1.0       1\n",
      "6      1   0       1     0   0     0  -0.75       1\n",
      "1      1   0       0     0   0     0   -0.5       1\n",
      "57     1   0       1     0   0     1   -0.5       1\n",
      "62     1   0       0     0   0     1  -0.25       1\n",
      "0      0   0       0     0   0     0    0.0       1\n",
      "3      0   1       0     0   0     0    0.0       1\n",
      "4      0   1       1     0   0     0    0.0       1\n",
      "10     1   1       1     1   0     0    0.0       1\n",
      "53     1   1       1     1   0     1    0.0       1\n",
      "54     1   0       1     1   0     1    0.0       1\n",
      "7      0   0       1     0   0     0   0.25       1\n",
      "9      1   0       1     1   0     0   0.25       1\n",
      "49     1   0       0     1   0     1   0.25       1\n",
      "13     1   1       0     1   0     0    0.5       1\n",
      "14     1   0       0     1   0     0    0.5       1\n",
      "15     0   0       0     1   0     0    0.5       1\n",
      "48     0   0       0     1   0     1    0.5       1\n",
      "50     1   1       0     1   0     1    0.5       1\n",
      "63     0   0       0     0   0     1    0.5       1\n",
      "8      0   0       1     1   0     0   0.75       1\n",
      "26     1   1       1     0   1     0   0.75       1\n",
      "55     0   0       1     1   0     1   0.75       1\n",
      "56     0   0       1     0   0     1   0.75       1\n",
      "59     0   1       1     0   0     1   0.75       1\n",
      "60     0   1       0     0   0     1   0.75       1\n",
      "16     0   0       0     1   1     0    1.0       1\n",
      "23     0   0       1     1   1     0    1.0       1\n",
      "24     0   0       1     0   1     0    1.0       1\n",
      "25     1   0       1     0   1     0    1.0       1\n",
      "31     0   0       0     0   1     0    1.0       1\n",
      "11     0   1       1     1   0     0    1.5       1\n",
      "12     0   1       0     1   0     0    1.5       1\n",
      "22     1   0       1     1   1     0    1.5       1\n",
      "29     1   1       0     0   1     0    1.5       1\n",
      "30     1   0       0     0   1     0    1.5       1\n",
      "40     0   0       1     1   1     1    1.5       1\n",
      "47     0   0       0     1   1     1    1.5       1\n",
      "27     0   1       1     0   1     0   1.75       1\n",
      "37     1   1       1     0   1     1   1.75       1\n",
      "38     1   0       1     0   1     1   1.75       1\n",
      "41     1   0       1     1   1     1   1.75       1\n",
      "51     0   1       0     1   0     1   1.75       1\n",
      "52     0   1       1     1   0     1   1.75       1\n",
      "17     1   0       0     1   1     0    2.0       1\n",
      "28     0   1       0     0   1     0    2.0       1\n",
      "32     0   0       0     0   1     1    2.0       1\n",
      "39     0   0       1     0   1     1    2.0       1\n",
      "21     1   1       1     1   1     0   2.25       1\n",
      "33     1   0       0     0   1     1   2.25       1\n",
      "46     1   0       0     1   1     1   2.25       1\n",
      "34     1   1       0     0   1     1    2.5       1\n",
      "20     0   1       1     1   1     0   2.75       1\n",
      "42     1   1       1     1   1     1   2.75       1\n",
      "18     1   1       0     1   1     0    3.0       1\n",
      "19     0   1       0     1   1     0    3.0       1\n",
      "36     0   1       1     0   1     1    3.0       1\n",
      "35     0   1       0     0   1     1   3.25       1\n",
      "43     0   1       1     1   1     1    3.5       1\n",
      "45     1   1       0     1   1     1    3.5       1\n",
      "44     0   1       0     1   1     1   3.75       1\n",
      "['BINARY', 64 rows, 64 samples, 6 variables]\n"
     ]
    }
   ],
   "source": [
    "vartype = dimod.BINARY\n",
    "bqm = dimod.BinaryQuadraticModel(linear, quadratic, vartype)\n",
    "\n",
    "# Using ExactSolver()\n",
    "sampler = dimod.ExactSolver()\n",
    "response = sampler.sample(bqm)\n",
    "print(response)"
   ]
  },
  {
   "cell_type": "code",
   "execution_count": null,
   "id": "24047a49",
   "metadata": {},
   "outputs": [],
   "source": []
  }
 ],
 "metadata": {
  "kernelspec": {
   "display_name": "Python 3 (ipykernel)",
   "language": "python",
   "name": "python3"
  },
  "language_info": {
   "codemirror_mode": {
    "name": "ipython",
    "version": 3
   },
   "file_extension": ".py",
   "mimetype": "text/x-python",
   "name": "python",
   "nbconvert_exporter": "python",
   "pygments_lexer": "ipython3",
   "version": "3.9.7"
  }
 },
 "nbformat": 4,
 "nbformat_minor": 5
}

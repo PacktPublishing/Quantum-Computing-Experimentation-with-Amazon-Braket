{
 "cells": [
  {
   "cell_type": "markdown",
   "id": "04c2ff2d",
   "metadata": {},
   "source": [
    "# Chapter 5 - Using Quantum Annealer - Developing a QUBO function and using Constraints  \n",
    "### Team Selection Example\n",
    "© 2021, 2022 Packt Publishing\n",
    "\n",
    "Written by Alex Khan\n"
   ]
  },
  {
   "cell_type": "code",
   "execution_count": 1,
   "id": "c86d2e44",
   "metadata": {},
   "outputs": [
    {
     "name": "stdout",
     "output_type": "stream",
     "text": [
      "100\n"
     ]
    }
   ],
   "source": [
    "# Copy in Matrix from File\n",
    "import pandas as pd\n",
    "E = pd.read_csv(\"employees.csv\", header=None ).values\n",
    "if (len(E[0])==len(E[1])):\n",
    "    dim=len(E)\n",
    "    print(dim)\n"
   ]
  },
  {
   "cell_type": "code",
   "execution_count": 2,
   "id": "00d41b35",
   "metadata": {},
   "outputs": [
    {
     "name": "stdout",
     "output_type": "stream",
     "text": [
      "26\n"
     ]
    }
   ],
   "source": [
    "# number of quadratic terms that do not match\n",
    "count=0\n",
    "for i in range(dim):\n",
    "    for j in range(dim):\n",
    "        if i<j:\n",
    "            if E[i,j]!=E[j,i]:\n",
    "\n",
    "                count+=1\n",
    "print(count)"
   ]
  },
  {
   "cell_type": "code",
   "execution_count": 3,
   "id": "0837bf84",
   "metadata": {},
   "outputs": [],
   "source": [
    "# Simple method of calculating total score of an employee"
   ]
  },
  {
   "cell_type": "code",
   "execution_count": 4,
   "id": "3f575639",
   "metadata": {},
   "outputs": [
    {
     "name": "stdout",
     "output_type": "stream",
     "text": [
      "Supervisor Score [5, 4, 5, 3, 4, 3, 3, 3, 4, 3, 3, 3, 3, 3, 3, 3, 3, 3, 3, 4, 4, 3, 3, 3, 4, 3, 4, 4, 3, 5, 4, 3, 3, 3, 4, 4, 3, 3, 3, 4, 3, 3, 3, 4, 3, 3, 3, 3, 3, 4, 3, 4, 3, 3, 3, 3, 3, 3, 3, 3, 3, 3, 3, 4, 3, 3, 3, 3, 3, 3, 3, 4, 3, 3, 3, 3, 3, 4, 4, 5, 4, 3, 3, 5, 5, 3, 3, 5, 3, 3, 3, 4, 4, 3, 3, 5, 4, 4, 5, 5]\n",
      "Team Score Total [153, 147, 160, 147, 156, 142, 154, 140, 154, 141, 147, 147, 170, 151, 164, 153, 166, 145, 151, 157, 150, 139, 148, 162, 149, 151, 143, 142, 166, 143, 152, 143, 150, 156, 154, 144, 149, 144, 143, 145, 149, 138, 136, 150, 151, 152, 147, 153, 138, 159, 153, 148, 148, 140, 147, 139, 156, 155, 150, 162, 137, 155, 152, 144, 136, 164, 155, 155, 151, 152, 146, 136, 139, 158, 154, 154, 151, 158, 137, 145, 146, 143, 152, 152, 142, 161, 156, 155, 145, 161, 151, 149, 168, 149, 144, 138, 149, 143, 142, 146]\n"
     ]
    }
   ],
   "source": [
    "s_score=[]\n",
    "t_score=[]\n",
    "\n",
    "for j in range (dim):\n",
    "    #print(\"employee\", j, \"supervisor review:\", E[j,j])\n",
    "    s_score.append(int(E[j,j]))\n",
    "    t_raw=0\n",
    "    for i in range(dim):\n",
    "        if (i!=j):\n",
    "            t_raw+=E[i,j]\n",
    "    t_score.append(int(t_raw))\n",
    "    #print(t_raw)\n",
    "print(\"Supervisor Score\",s_score)\n",
    "print(\"Team Score Total\",t_score)"
   ]
  },
  {
   "cell_type": "code",
   "execution_count": 5,
   "id": "b6b8a700",
   "metadata": {},
   "outputs": [
    {
     "name": "stdout",
     "output_type": "stream",
     "text": [
      "[158, 151, 165, 150, 160, 145, 157, 143, 158, 144, 150, 150, 173, 154, 167, 156, 169, 148, 154, 161, 154, 142, 151, 165, 153, 154, 147, 146, 169, 148, 156, 146, 153, 159, 158, 148, 152, 147, 146, 149, 152, 141, 139, 154, 154, 155, 150, 156, 141, 163, 156, 152, 151, 143, 150, 142, 159, 158, 153, 165, 140, 158, 155, 148, 139, 167, 158, 158, 154, 155, 149, 140, 142, 161, 157, 157, 154, 162, 141, 150, 150, 146, 155, 157, 147, 164, 159, 160, 148, 164, 154, 153, 172, 152, 147, 143, 153, 147, 147, 151]\n"
     ]
    }
   ],
   "source": [
    "# Calculate total Score. Supervisor to Employee rating weight is equal\n",
    "w_s=1\n",
    "w_t=1\n",
    "total=[]\n",
    "for j in range(dim):\n",
    "    total.append(w_s*s_score[j]+w_t*t_score[j])\n",
    "print(total)"
   ]
  },
  {
   "cell_type": "code",
   "execution_count": 6,
   "id": "435644c3",
   "metadata": {},
   "outputs": [
    {
     "name": "stdout",
     "output_type": "stream",
     "text": [
      "employee/score\n",
      "12 173\n",
      "92 172\n",
      "28 169\n",
      "16 169\n",
      "65 167\n",
      "14 167\n",
      "59 165\n",
      "23 165\n",
      "2 165\n",
      "85 164\n"
     ]
    }
   ],
   "source": [
    "import numpy as np\n",
    "# Sort the Totals \n",
    "total_arr=np.array(total)\n",
    "employee_index=total_arr.argsort()\n",
    "#total_employee=total_arr[employee_index]\n",
    "count=0\n",
    "#Top_et=[]\n",
    "print('employee/score')\n",
    "for i in reversed(employee_index):\n",
    "    if count==10:\n",
    "        break\n",
    "    print(i, total_arr[i])\n",
    "    count+=1\n",
    "    #Top_et.append(i)"
   ]
  },
  {
   "cell_type": "code",
   "execution_count": 294,
   "id": "438417a0",
   "metadata": {},
   "outputs": [
    {
     "name": "stdout",
     "output_type": "stream",
     "text": [
      "New Employee Team [12, 92, 28, 16, 65, 14, 59, 23, 2, 85]\n",
      "[[3. 2. 4. 1. 3. 3. 1. 1. 1. 1.]\n",
      " [2. 4. 1. 5. 1. 2. 2. 1. 1. 1.]\n",
      " [4. 1. 3. 2. 1. 1. 2. 1. 1. 3.]\n",
      " [1. 5. 2. 3. 1. 2. 1. 2. 1. 2.]\n",
      " [3. 1. 1. 1. 3. 1. 1. 1. 3. 2.]\n",
      " [3. 2. 1. 2. 1. 3. 3. 1. 2. 1.]\n",
      " [1. 2. 2. 1. 1. 3. 3. 2. 1. 2.]\n",
      " [1. 1. 1. 2. 1. 1. 2. 3. 3. 1.]\n",
      " [1. 1. 1. 1. 3. 2. 1. 3. 5. 3.]\n",
      " [1. 1. 3. 2. 2. 1. 2. 1. 3. 3.]]\n",
      "New Employee Team [ 2 12 14 16 23 28 59 65 85 92]\n",
      "[[5. 1. 2. 1. 3. 1. 1. 3. 3. 1.]\n",
      " [1. 3. 3. 1. 1. 4. 1. 3. 1. 2.]\n",
      " [2. 3. 3. 2. 1. 1. 3. 1. 1. 2.]\n",
      " [1. 1. 2. 3. 2. 2. 1. 1. 2. 5.]\n",
      " [3. 1. 1. 2. 3. 1. 2. 1. 1. 1.]\n",
      " [1. 4. 1. 2. 1. 3. 2. 1. 3. 1.]\n",
      " [1. 1. 3. 1. 2. 2. 3. 1. 2. 2.]\n",
      " [3. 3. 1. 1. 1. 1. 1. 3. 2. 1.]\n",
      " [3. 1. 1. 2. 1. 3. 2. 2. 3. 1.]\n",
      " [1. 2. 2. 5. 1. 1. 2. 1. 1. 4.]]\n"
     ]
    }
   ],
   "source": [
    "# Find the scores of the top 10 team members and display as a matrix\n",
    "num_limit=10\n",
    "Top_E=np.zeros((num_limit, num_limit))\n",
    "Top_et=[]\n",
    "\n",
    "i=0\n",
    "for e in range(dim-1, dim-num_limit-1, -1):\n",
    "    j=0\n",
    "    Top_et.append(employee_index[e])\n",
    "    for f in range(dim-1, dim-num_limit-1, -1):\n",
    "        \n",
    "        Top_E[i,j]=E[employee_index[e],employee_index[f]]\n",
    "        #print(sort[e])\n",
    "        j+=1\n",
    "    \n",
    "    i+=1\n",
    "print(\"New Employee Team\",Top_et)\n",
    "print(Top_E)\n",
    "\n",
    "Top_e=np.sort(Top_et)\n",
    "#print(Top_e)\n",
    "\n",
    "i=0\n",
    "for e in (Top_e):\n",
    "    j=0\n",
    "    for f in (Top_e):\n",
    "        \n",
    "        Top_E[i,j]=E[e,f]\n",
    "        j+=1\n",
    "    i+=1\n",
    "    \n",
    "print(\"New Employee Team\",Top_e)\n",
    "print(Top_E)"
   ]
  },
  {
   "cell_type": "code",
   "execution_count": 290,
   "id": "1b39d8f6",
   "metadata": {},
   "outputs": [
    {
     "name": "stdout",
     "output_type": "stream",
     "text": [
      "New Employee Team Energy: 189.0\n"
     ]
    }
   ],
   "source": [
    "# Team score from the small Top employee matrix\n",
    "team_score=0\n",
    "for i in range(num_limit):\n",
    "    for j in range(num_limit):\n",
    "        team_score+=Top_E[i,j]\n",
    "print(\"New Employee Team Energy:\",team_score)"
   ]
  },
  {
   "cell_type": "code",
   "execution_count": 291,
   "id": "ccb26c9d",
   "metadata": {},
   "outputs": [
    {
     "name": "stdout",
     "output_type": "stream",
     "text": [
      "New Employee Team Energy: 189.0\n"
     ]
    }
   ],
   "source": [
    "# Team score from the original Employee score matrix, using the employee index numbers\n",
    "team_score=0\n",
    "for i in (Top_e):\n",
    "    for j in (Top_e):\n",
    "        team_score+=E[i,j]\n",
    "print(\"New Employee Team Energy:\",team_score)"
   ]
  },
  {
   "cell_type": "markdown",
   "id": "240bfc66",
   "metadata": {},
   "source": [
    "What if we send The two matrices to the D-Wave simulated Annealer"
   ]
  },
  {
   "cell_type": "code",
   "execution_count": null,
   "id": "ac79ac56",
   "metadata": {},
   "outputs": [],
   "source": [
    "# Use Simulated Annealer to show results\n",
    "import neal\n",
    "import dimod"
   ]
  },
  {
   "cell_type": "code",
   "execution_count": 20,
   "id": "898fdd97",
   "metadata": {},
   "outputs": [
    {
     "name": "stdout",
     "output_type": "stream",
     "text": [
      "Sample(sample={0: 1, 1: 1, 2: 1, 3: 1, 4: 1, 5: 1, 6: 1, 7: 1, 8: 1, 9: 1}, energy=-189.0, num_occurrences=1)\n"
     ]
    }
   ],
   "source": [
    "# Sending Top Employee matrix Top_E (using -ve sign for minimization)\n",
    "Nsampler = neal.SimulatedAnnealingSampler()\n",
    "QDWaveSA = dimod.BinaryQuadraticModel(-Top_E, dimod.BINARY)\n",
    "SAresponse = Nsampler.sample(QDWaveSA)\n",
    "for Ssample in SAresponse.data():\n",
    "    print( Ssample)"
   ]
  },
  {
   "cell_type": "code",
   "execution_count": 19,
   "id": "46ac03d3",
   "metadata": {},
   "outputs": [
    {
     "name": "stdout",
     "output_type": "stream",
     "text": [
      "Sample(sample={0: 1, 1: 1, 2: 1, 3: 1, 4: 1, 5: 1, 6: 1, 7: 1, 8: 1, 9: 1, 10: 1, 11: 1, 12: 1, 13: 1, 14: 1, 15: 1, 16: 1, 17: 1, 18: 1, 19: 1, 20: 1, 21: 1, 22: 1, 23: 1, 24: 1, 25: 1, 26: 1, 27: 1, 28: 1, 29: 1, 30: 1, 31: 1, 32: 1, 33: 1, 34: 1, 35: 1, 36: 1, 37: 1, 38: 1, 39: 1, 40: 1, 41: 1, 42: 1, 43: 1, 44: 1, 45: 1, 46: 1, 47: 1, 48: 1, 49: 1, 50: 1, 51: 1, 52: 1, 53: 1, 54: 1, 55: 1, 56: 1, 57: 1, 58: 1, 59: 1, 60: 1, 61: 1, 62: 1, 63: 1, 64: 1, 65: 1, 66: 1, 67: 1, 68: 1, 69: 1, 70: 1, 71: 1, 72: 1, 73: 1, 74: 1, 75: 1, 76: 1, 77: 1, 78: 1, 79: 1, 80: 1, 81: 1, 82: 1, 83: 1, 84: 1, 85: 1, 86: 1, 87: 1, 88: 1, 89: 1, 90: 1, 91: 1, 92: 1, 93: 1, 94: 1, 95: 1, 96: 1, 97: 1, 98: 1, 99: 1}, energy=-15304.0, num_occurrences=1)\n"
     ]
    }
   ],
   "source": [
    "# Sending All Employee matrix E (using -ve sign for minimization)\n",
    "Nsampler = neal.SimulatedAnnealingSampler()\n",
    "QDWaveSA = dimod.BinaryQuadraticModel(-E, dimod.BINARY)\n",
    "SAresponse = Nsampler.sample(QDWaveSA)\n",
    "for Ssample in SAresponse.data():\n",
    "    print( Ssample)"
   ]
  },
  {
   "cell_type": "markdown",
   "id": "24ad146b",
   "metadata": {},
   "source": [
    "## Visualizing the Landscape"
   ]
  },
  {
   "cell_type": "code",
   "execution_count": 204,
   "id": "c07f6f3c",
   "metadata": {},
   "outputs": [
    {
     "name": "stdout",
     "output_type": "stream",
     "text": [
      "Total possible Solutions:  1267650600228229401496703205375\n"
     ]
    }
   ],
   "source": [
    "print(\"Total possible Solutions: \",(2**dim)-1)"
   ]
  },
  {
   "cell_type": "code",
   "execution_count": 206,
   "id": "2946e540",
   "metadata": {},
   "outputs": [
    {
     "name": "stdout",
     "output_type": "stream",
     "text": [
      "Total possible Solutions with 10 employees 17310309456440\n"
     ]
    }
   ],
   "source": [
    "import math\n",
    "def nCr(n,r):\n",
    "    f = math.factorial\n",
    "    return int(f(n) / f(r) / f(n-r))\n",
    "print(\"Total possible Solutions with\", num_limit,\"employees\", nCr(dim,num_limit))"
   ]
  },
  {
   "cell_type": "code",
   "execution_count": 183,
   "id": "10f4017a",
   "metadata": {},
   "outputs": [],
   "source": [
    "def ProbabilisticSampler(Q,plot_limit,offset=0, min_limit=0, max_limit=0):\n",
    "    #(C) 2021, 2022 Alex Khan \n",
    "\n",
    "    \n",
    "    from itertools import combinations\n",
    "    import numpy as np\n",
    "    import pandas as pd\n",
    "    import random\n",
    "    import math\n",
    "    import matplotlib.pyplot as plt\n",
    "    \n",
    "    def nCr(n,r):\n",
    "        f = math.factorial\n",
    "        return int(f(n) / f(r) / f(n-r))\n",
    "    \n",
    "    def random_combination(iterable, r):\n",
    "        \"Random selection from itertools.combinations(iterable, r)\"\n",
    "        pool = tuple(iterable)\n",
    "        n = len(pool)\n",
    "        indices = sorted(random.sample(range(n), r))\n",
    "        return list(tuple(pool[i] for i in indices))\n",
    "    \n",
    "    def sum(i_list, Q):\n",
    "        sum_lq=0\n",
    "\n",
    "        for i in (i_list):\n",
    "            for j in (i_list):\n",
    "                \n",
    "                sum_lq+=Q[i][j]\n",
    "            \n",
    "        return(sum_lq+offset)\n",
    "    \n",
    "    \n",
    "    N=len(Q[0])\n",
    "    if max_limit==0:\n",
    "        max_limit=N\n",
    "    t= (2**N)-1\n",
    "    \n",
    "    e_min=9999999\n",
    "    count=0\n",
    "    min_list=[]\n",
    "    plot_data=[]\n",
    "    x_label=[]\n",
    "    comb_list=[]\n",
    "    for n in range(min_limit,max_limit+1):  # for groups of items from 1 to N\n",
    "        comb=nCr(N,n)\n",
    "        comb_list.append(comb)\n",
    "        #print('--m ', m, comb)\n",
    "        if comb>plot_limit:\n",
    "            combf=plot_limit\n",
    "        else:\n",
    "            combf=comb\n",
    "                \n",
    "        for i in range (combf):\n",
    "            i_list=random_combination(range(N), n)\n",
    "            plot_data.append(sum(list(i_list),Q))\n",
    "            x_label.append(n)\n",
    "            \n",
    "            if sum(list(i_list),Q)<e_min:  \n",
    "\n",
    "                    e_min=sum(list(i_list),Q)  \n",
    "                    min_count=n\n",
    "                    min_list=list(i_list)\n",
    "                    \n",
    "                    #print(list(i_list), sum(list(i_list),Q))\n",
    "            count+=1\n",
    "    plt.plot(x_label,plot_data)\n",
    "    plt.ylabel('Energy')\n",
    "    plt.show()\n",
    "    \n",
    "    print('Best found:', min_list)\n",
    "    print('count:', min_count)\n",
    "    print('Energy:', e_min)\n",
    "    print('Solutions Sampled:', count)\n",
    "    #print('Total Possible solutions:', comb_list)\n",
    "    return min_list, e_min, comb_list"
   ]
  },
  {
   "cell_type": "code",
   "execution_count": 184,
   "id": "b72b1a9e",
   "metadata": {},
   "outputs": [
    {
     "data": {
      "image/png": "[encoded data removed]",
      "text/plain": [
       "<Figure size 432x288 with 1 Axes>"
      ]
     },
     "metadata": {
      "needs_background": "light"
     },
     "output_type": "display_data"
    },
    {
     "name": "stdout",
     "output_type": "stream",
     "text": [
      "Best found: [0, 1, 2, 3, 4, 5, 6, 7, 8, 9]\n",
      "count: 10\n",
      "Energy: -189.0\n",
      "Solutions Sampled: 92\n"
     ]
    }
   ],
   "source": [
    "min_list, e_min, comb_list=ProbabilisticSampler(-Top_E,10)"
   ]
  },
  {
   "cell_type": "code",
   "execution_count": 185,
   "id": "55dde636",
   "metadata": {},
   "outputs": [
    {
     "data": {
      "image/png": "[encoded data removed]",
      "text/plain": [
       "<Figure size 432x288 with 1 Axes>"
      ]
     },
     "metadata": {
      "needs_background": "light"
     },
     "output_type": "display_data"
    },
    {
     "name": "stdout",
     "output_type": "stream",
     "text": [
      "Best found: [0, 1, 2, 3, 4, 5, 6, 7, 8, 9, 10, 11, 12, 13, 14, 15, 16, 17, 18, 19, 20, 21, 22, 23, 24, 25, 26, 27, 28, 29, 30, 31, 32, 33, 34, 35, 36, 37, 38, 39, 40, 41, 42, 43, 44, 45, 46, 47, 48, 49, 50, 51, 52, 53, 54, 55, 56, 57, 58, 59, 60, 61, 62, 63, 64, 65, 66, 67, 68, 69, 70, 71, 72, 73, 74, 75, 76, 77, 78, 79, 80, 81, 82, 83, 84, 85, 86, 87, 88, 89, 90, 91, 92, 93, 94, 95, 96, 97, 98, 99]\n",
      "count: 100\n",
      "Energy: -15304.0\n",
      "Solutions Sampled: 9902\n"
     ]
    }
   ],
   "source": [
    "min_list, e_min, comb_list=ProbabilisticSampler(-E,100)"
   ]
  },
  {
   "cell_type": "markdown",
   "id": "eb698d11",
   "metadata": {},
   "source": [
    "## Adding Constraints or Penalty"
   ]
  },
  {
   "cell_type": "code",
   "execution_count": 260,
   "id": "e3d29c11",
   "metadata": {},
   "outputs": [],
   "source": [
    "# The constraint matrix\n",
    "size=dim\n",
    "max_count=10\n",
    "strength=90\n",
    "#strength=1\n",
    "P=np.ones((size,size))\n",
    "\n",
    "for i in range(size):\n",
    "    for j in range(size):\n",
    "        if i==j:\n",
    "            P[i,i]=strength*(1-2*max_count)\n",
    "        else:\n",
    "            P[i,j]=strength\n",
    "offset=(max_count)**2"
   ]
  },
  {
   "cell_type": "code",
   "execution_count": 261,
   "id": "ec646f38",
   "metadata": {},
   "outputs": [
    {
     "data": {
      "image/png": "[encoded data removed]",
      "text/plain": [
       "<Figure size 432x288 with 1 Axes>"
      ]
     },
     "metadata": {
      "needs_background": "light"
     },
     "output_type": "display_data"
    },
    {
     "name": "stdout",
     "output_type": "stream",
     "text": [
      "Best found: [0, 39, 43, 45, 53, 60, 71, 73, 75, 96]\n",
      "count: 10\n",
      "Energy: -8900.0\n",
      "Solutions Sampled: 992\n"
     ]
    }
   ],
   "source": [
    "min_list, e_min, comb_list=ProbabilisticSampler(P,10,offset)"
   ]
  },
  {
   "cell_type": "code",
   "execution_count": 262,
   "id": "cbc662ab",
   "metadata": {},
   "outputs": [],
   "source": [
    "C=P-E"
   ]
  },
  {
   "cell_type": "code",
   "execution_count": 295,
   "id": "3d490903",
   "metadata": {},
   "outputs": [
    {
     "data": {
      "image/png": "[encoded data removed]",
      "text/plain": [
       "<Figure size 432x288 with 1 Axes>"
      ]
     },
     "metadata": {
      "needs_background": "light"
     },
     "output_type": "display_data"
    },
    {
     "name": "stdout",
     "output_type": "stream",
     "text": [
      "Best found: [2, 16, 25, 43, 44, 51, 65, 69, 77, 87]\n",
      "count: 10\n",
      "Energy: -9103.0\n",
      "Solutions Sampled: 11000\n"
     ]
    }
   ],
   "source": [
    "min_list, e_min, comb_list=ProbabilisticSampler(C,1000,offset, 5, 15)"
   ]
  },
  {
   "cell_type": "code",
   "execution_count": 263,
   "id": "c4083b99",
   "metadata": {},
   "outputs": [
    {
     "data": {
      "image/png": "[encoded data removed]",
      "text/plain": [
       "<Figure size 432x288 with 1 Axes>"
      ]
     },
     "metadata": {
      "needs_background": "light"
     },
     "output_type": "display_data"
    },
    {
     "name": "stdout",
     "output_type": "stream",
     "text": [
      "Best found: [16, 18, 19, 34, 36, 56, 65, 69, 84, 92]\n",
      "count: 10\n",
      "Energy: -9126.0\n",
      "Solutions Sampled: 100000\n"
     ]
    }
   ],
   "source": [
    "min_list, e_min, comb_list=ProbabilisticSampler(C,100000,offset, 10, 10)"
   ]
  },
  {
   "cell_type": "code",
   "execution_count": 189,
   "id": "1d637b0e",
   "metadata": {},
   "outputs": [
    {
     "name": "stdout",
     "output_type": "stream",
     "text": [
      "[186087894299, 1902231808400, 17310309456440, 141629804643600]\n"
     ]
    }
   ],
   "source": [
    "print(comb_list)"
   ]
  },
  {
   "cell_type": "code",
   "execution_count": 300,
   "id": "2e5f06f7",
   "metadata": {},
   "outputs": [
    {
     "name": "stdout",
     "output_type": "stream",
     "text": [
      "Employees [16, 18, 19, 34, 36, 56, 65, 69, 84, 92] Team Score: 226.0\n"
     ]
    }
   ],
   "source": [
    "#Top_e_PS=[5, 6, 7, 17, 33, 45, 61, 65, 68, 84]=193\n",
    "#Top_e_PS=[2, 16, 22, 34, 38, 46, 52, 69, 75, 81, 90]=220\n",
    "#Top_e_PS=[0, 10, 14, 43, 49, 61, 73, 83, 91, 92]=210\n",
    "#Top_e_PS=[27, 34, 36, 65, 66, 69, 77, 83, 84, 89]=218\n",
    "#Top_e_PS=[2, 19, 23, 49, 60, 62, 68, 69, 73, 85]=220\n",
    "#Top_e_PS=[14, 16, 20, 24, 38, 40, 55, 56, 92, 93]=223\n",
    "#Top_e_PS=[1, 2, 3, 14, 19, 25, 44, 65, 83, 99] = 212\n",
    "#Top_e_PS=[2, 16, 25, 43, 44, 51, 65, 69, 77, 87] = 203\n",
    "\n",
    "Top_e_PS=[16, 18, 19, 34, 36, 56, 65, 69, 84, 92]\n",
    "# Team score from the original Employee score matrix, using the employee index numbers\n",
    "team_score=0\n",
    "for i in (Top_e_PS):\n",
    "    for j in (Top_e_PS):\n",
    "        team_score+=E[i,j]\n",
    "print(\"Employees\", Top_e_PS, \"Team Score:\",team_score)"
   ]
  },
  {
   "cell_type": "markdown",
   "id": "4d85ebcb",
   "metadata": {},
   "source": [
    "## Running on Simulated Annealer"
   ]
  },
  {
   "cell_type": "markdown",
   "id": "a3328f3b",
   "metadata": {},
   "source": [
    "Check best team again using Simulated Annealer"
   ]
  },
  {
   "cell_type": "code",
   "execution_count": 265,
   "id": "1e6aee6a",
   "metadata": {},
   "outputs": [
    {
     "name": "stdout",
     "output_type": "stream",
     "text": [
      "Sample(sample={0: 1, 1: 1, 2: 0, 3: 0, 4: 1, 5: 0, 6: 0, 7: 0, 8: 0, 9: 0, 10: 0, 11: 0, 12: 0, 13: 0, 14: 0, 15: 0, 16: 0, 17: 0, 18: 0, 19: 1, 20: 0, 21: 0, 22: 0, 23: 1, 24: 0, 25: 0, 26: 0, 27: 0, 28: 0, 29: 0, 30: 0, 31: 0, 32: 0, 33: 0, 34: 0, 35: 0, 36: 0, 37: 0, 38: 0, 39: 0, 40: 0, 41: 0, 42: 0, 43: 0, 44: 0, 45: 1, 46: 0, 47: 1, 48: 0, 49: 0, 50: 0, 51: 0, 52: 0, 53: 0, 54: 0, 55: 0, 56: 0, 57: 0, 58: 0, 59: 1, 60: 0, 61: 0, 62: 0, 63: 0, 64: 0, 65: 0, 66: 0, 67: 0, 68: 0, 69: 0, 70: 0, 71: 0, 72: 0, 73: 0, 74: 0, 75: 0, 76: 0, 77: 0, 78: 1, 79: 0, 80: 0, 81: 0, 82: 0, 83: 0, 84: 0, 85: 0, 86: 0, 87: 0, 88: 0, 89: 0, 90: 0, 91: 0, 92: 0, 93: 0, 94: 0, 95: 1, 96: 0, 97: 0, 98: 0, 99: 0}, energy=-9194.0, num_occurrences=1)\n"
     ]
    }
   ],
   "source": [
    "# Sending All Employee matrix E (using -ve sign for minimization)\n",
    "Nsampler = neal.SimulatedAnnealingSampler()\n",
    "QDWaveSA = dimod.BinaryQuadraticModel(C, dimod.BINARY)\n",
    "SAresponse = Nsampler.sample(QDWaveSA)\n",
    "for Ssample in SAresponse.data():\n",
    "    print( Ssample)"
   ]
  },
  {
   "cell_type": "code",
   "execution_count": 266,
   "id": "ba5d16a6",
   "metadata": {},
   "outputs": [
    {
     "name": "stdout",
     "output_type": "stream",
     "text": [
      "[0, 1, 4, 19, 23, 45, 47, 59, 78, 95] 194.0 10 1\n",
      "best Simulated Annealer:[0, 1, 4, 19, 23, 45, 47, 59, 78, 95] team_score:194.0 count:10 occurences:1\n"
     ]
    }
   ],
   "source": [
    "# print qubits with value 1\n",
    "best=0\n",
    "team_score=0\n",
    "for sample, energy, n_occurences in SAresponse.data():\n",
    "    sample_list=[]\n",
    "    for i in range(dim):\n",
    "        #sample_str.append(str(sample['a'+str(a)]))\n",
    "        if sample[i]==1:\n",
    "            sample_list.append(i)\n",
    "    for i in (sample_list):\n",
    "        for j in (sample_list):\n",
    "            team_score+=E[i,j]\n",
    "    if best==0:\n",
    "        Top_e_DW=sample_list\n",
    "        best_DWave_val='best Simulated Annealer:'+str(sample_list)+' team_score:'+str(team_score)+' count:'+ str(len(sample_list)) +' occurences:'+str(n_occurences)\n",
    "        best=1\n",
    "    print(sample_list, team_score, len(sample_list), n_occurences)\n",
    "    #break #comment out break to see all values\n",
    "print(best_DWave_val)   \n"
   ]
  },
  {
   "cell_type": "markdown",
   "id": "238dea3f",
   "metadata": {},
   "source": [
    "## Running on D-Wave"
   ]
  },
  {
   "cell_type": "code",
   "execution_count": null,
   "id": "78a5fac5",
   "metadata": {},
   "outputs": [],
   "source": [
    "## Now to see if D-Wave is able to give us a value faster and with lower energy"
   ]
  },
  {
   "cell_type": "code",
   "execution_count": null,
   "id": "430e8028",
   "metadata": {},
   "outputs": [],
   "source": [
    "# Enter the S3 bucket you created during onboarding in the code below\n",
    "my_bucket = \"amazon-braket-[your bucket]\" # the name of the bucket\n",
    "my_prefix = \"[your folder]\" # the name of the folder in the bucket\n",
    "s3_folder = (my_bucket, my_prefix)"
   ]
  },
  {
   "cell_type": "code",
   "execution_count": 198,
   "id": "4e4e3b42",
   "metadata": {},
   "outputs": [],
   "source": [
    "from braket.aws import AwsDevice\n",
    "from braket.ocean_plugin import BraketSampler, BraketDWaveSampler\n",
    "from dwave.system.composites import EmbeddingComposite"
   ]
  },
  {
   "cell_type": "code",
   "execution_count": 200,
   "id": "cfa5f6b8",
   "metadata": {},
   "outputs": [
    {
     "name": "stdout",
     "output_type": "stream",
     "text": [
      "Number of qubits:  5760\n",
      "Number of couplers 37440\n",
      "Shots max 10,000\n"
     ]
    }
   ],
   "source": [
    "# Please ensure you are using the latest available D-Wave devices on Amazon Braket\n",
    "# DWave_device='DW_2000Q_6' #if using 2000Q\n",
    "#DWave_device='Advantage_system6.1' #if using advantage\n",
    "DWave_device='Advantage_system4.1' #if using advantage\n",
    "\n",
    "device =AwsDevice.get_devices(names=DWave_device)[0]\n",
    "sampler = BraketDWaveSampler(s3_folder,device.arn)\n",
    "sampler = EmbeddingComposite(sampler)\n",
    "max_shots=device.properties.service.shotsRange[1]\n",
    "print('Number of qubits: ', device.properties.provider.qubitCount)\n",
    "print('Number of couplers', len(device.properties.provider.couplers))\n",
    "print('Shots max {:,}'.format(max_shots) )"
   ]
  },
  {
   "cell_type": "code",
   "execution_count": 267,
   "id": "890ada49",
   "metadata": {},
   "outputs": [
    {
     "name": "stdout",
     "output_type": "stream",
     "text": [
      "Recommended shots 10000\n",
      "Estimated cost $2.20\n"
     ]
    }
   ],
   "source": [
    "#Estimate cost:\n",
    "variables=100\n",
    "shots=25*2**variables\n",
    "if shots>max_shots:\n",
    "    shots=max_shots\n",
    "price_per_shot=device.properties.service.deviceCost.price\n",
    "print('Recommended shots', shots)\n",
    "print('Estimated cost ${:.2f}'.format(0.3+price_per_shot*shots))"
   ]
  },
  {
   "cell_type": "code",
   "execution_count": 268,
   "id": "ffc1e70d",
   "metadata": {},
   "outputs": [],
   "source": [
    "# Notice we already prepared C to have a minimum at 10 employees\n",
    "linear={i:C[i][i] for i in range(dim)}\n"
   ]
  },
  {
   "cell_type": "code",
   "execution_count": 269,
   "id": "ba057fa4",
   "metadata": {},
   "outputs": [],
   "source": [
    "# We have to add both sides of the matrix from either side of the diagonal to create the single employee-employee relationship \n",
    "quadratic={(i,j):C[i][j]+C[j][i] for i in range(dim) for j in range(dim) if i>j}"
   ]
  },
  {
   "cell_type": "code",
   "execution_count": 270,
   "id": "b67f0150",
   "metadata": {},
   "outputs": [],
   "source": [
    "vartype = dimod.BINARY\n",
    "bqm = dimod.BinaryQuadraticModel(linear, quadratic, vartype)"
   ]
  },
  {
   "cell_type": "code",
   "execution_count": 271,
   "id": "e31527a3",
   "metadata": {},
   "outputs": [],
   "source": [
    "# Note: reduce shots if you want to reduce costs\n",
    "shots=shots\n",
    "chain_strength = 1.3\n",
    "response = sampler.sample(bqm, num_reads=shots, chain_strength=chain_strength)"
   ]
  },
  {
   "cell_type": "code",
   "execution_count": 272,
   "id": "5ac0ea9e",
   "metadata": {},
   "outputs": [
    {
     "name": "stdout",
     "output_type": "stream",
     "text": [
      "[12, 13, 14, 25, 46, 51, 65, 70, 80, 81] 196.0 10 1\n",
      "best D-Wave:[12, 13, 14, 25, 46, 51, 65, 70, 80, 81] team_score:196.0 count:10 occurences:1\n"
     ]
    }
   ],
   "source": [
    "# print team info\n",
    "best=0\n",
    "team_score=0\n",
    "for sample, energy, n_occurences, chain_break_freq in response.data():\n",
    "    sample_list=[]\n",
    "    for i in range(dim):\n",
    "        #sample_str.append(str(sample['a'+str(a)]))\n",
    "        if sample[i]==1:\n",
    "            sample_list.append(i)\n",
    "    for i in (sample_list):\n",
    "        for j in (sample_list):\n",
    "            team_score+=E[i,j]\n",
    "    if best==0:\n",
    "        Top_e_DW=sample_list\n",
    "        best_DWave_val='best D-Wave:'+str(sample_list)+' team_score:'+str(team_score)+' count:'+ str(len(sample_list)) +' occurences:'+str(n_occurences)\n",
    "        best=1\n",
    "    print(sample_list, team_score, len(sample_list), n_occurences)\n",
    "    break #comment out break to see all values\n",
    "print(best_DWave_val)   \n"
   ]
  },
  {
   "cell_type": "code",
   "execution_count": 273,
   "id": "420ca2b7",
   "metadata": {},
   "outputs": [
    {
     "name": "stdout",
     "output_type": "stream",
     "text": [
      "employees: [12, 13, 14, 25, 46, 51, 65, 70, 80, 81]\n",
      "New Employee Team Energy: 196.0\n"
     ]
    }
   ],
   "source": [
    "print('employees:', Top_e_DW)\n",
    "team_score=0\n",
    "for i in (Top_e_DW):\n",
    "    for j in (Top_e_DW):\n",
    "        team_score+=E[i,j]\n",
    "print(\"New Employee Team Score:\",team_score)"
   ]
  },
  {
   "cell_type": "code",
   "execution_count": null,
   "id": "ef850828",
   "metadata": {},
   "outputs": [],
   "source": [
    "Summary of Results:\n",
    "    \n",
    "Traditional method\n",
    "employees:[2, 12, 14, 16, 23, 28, 59, 65, 85, 92] team_score: 189 count:10\n",
    "    \n",
    "Probabilistic Solver\n",
    "employees: [16, 18, 19, 34, 36, 56, 65, 69, 84, 92] team_score: 226.0 count:10\n",
    "\n",
    "Simulated Annealer\n",
    "employees:[0, 1, 4, 19, 23, 45, 47, 59, 78, 95] team_score:194.0 count:10\n",
    "    \n",
    "D-Wave Advantage\n",
    "employees: [12, 13, 14, 25, 46, 51, 65, 70, 80, 81] Team Score: 196.0 count:10"
   ]
  }
 ],
 "metadata": {
  "kernelspec": {
   "display_name": "Python 3 (ipykernel)",
   "language": "python",
   "name": "python3"
  },
  "language_info": {
   "codemirror_mode": {
    "name": "ipython",
    "version": 3
   },
   "file_extension": ".py",
   "mimetype": "text/x-python",
   "name": "python",
   "nbconvert_exporter": "python",
   "pygments_lexer": "ipython3",
   "version": "3.9.7"
  }
 },
 "nbformat": 4,
 "nbformat_minor": 5
}

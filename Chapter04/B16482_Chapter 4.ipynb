{
 "cells": [
  {
   "cell_type": "markdown",
   "id": "40d474be",
   "metadata": {},
   "source": [
    "# Quantum Computing Experimentation with Amazon Braket\n",
    "### Chapter 4 - Writing your first Amazon Braket Code Sample\n",
    "<p> © 2021, 2022, 2023 Packt Publishing\n",
    "<p> Written by Alex Khan\n"
   ]
  },
  {
   "cell_type": "markdown",
   "id": "8206bc35",
   "metadata": {},
   "source": [
    "#### 1. Find Active Devices\n",
    "The following code retrieves active devices in Amazon Braket\n",
    "\n",
    "More information can be found at https://amazon-braket-sdk-python.readthedocs.io/en/stable/_apidoc/braket.aws.aws_device.html"
   ]
  },
  {
   "cell_type": "code",
   "execution_count": null,
   "id": "7b3c9933-7714-4d10-b541-bd3380f93903",
   "metadata": {},
   "outputs": [],
   "source": [
    "### If you have not executed this code in a while, or if new devices are added to Amazon Braket, please upgrade your packages.\n",
    "#! pip install --upgrade amazon-braket-sdk\n",
    "#! pip install --upgrade amazon-braket-schemas"
   ]
  },
  {
   "cell_type": "code",
   "execution_count": 1,
   "id": "c6761e60",
   "metadata": {},
   "outputs": [],
   "source": [
    "from braket.aws import AwsDevice"
   ]
  },
  {
   "cell_type": "code",
   "execution_count": 2,
   "id": "ffb99a12",
   "metadata": {},
   "outputs": [],
   "source": [
    "device_list=AwsDevice.get_devices(statuses=['ONLINE'])"
   ]
  },
  {
   "cell_type": "code",
   "execution_count": 3,
   "id": "f0717ea7",
   "metadata": {},
   "outputs": [
    {
     "name": "stdout",
     "output_type": "stream",
     "text": [
      "[Device('name': Ankaa-3, 'arn': arn:aws:braket:us-west-1::device/qpu/rigetti/Ankaa-3), Device('name': Aquila, 'arn': arn:aws:braket:us-east-1::device/qpu/quera/Aquila), Device('name': Forte 1, 'arn': arn:aws:braket:us-east-1::device/qpu/ionq/Forte-1), Device('name': Garnet, 'arn': arn:aws:braket:eu-north-1::device/qpu/iqm/Garnet), Device('name': SV1, 'arn': arn:aws:braket:::device/quantum-simulator/amazon/sv1), Device('name': TN1, 'arn': arn:aws:braket:::device/quantum-simulator/amazon/tn1), Device('name': dm1, 'arn': arn:aws:braket:::device/quantum-simulator/amazon/dm1)]\n"
     ]
    }
   ],
   "source": [
    "print(device_list)"
   ]
  },
  {
   "cell_type": "code",
   "execution_count": 5,
   "id": "ba3c42a6",
   "metadata": {},
   "outputs": [
    {
     "name": "stdout",
     "output_type": "stream",
     "text": [
      "Valid device names:  ['Ankaa-3', 'Aquila', 'Forte 1', 'Garnet', 'SV1', 'TN1', 'dm1']\n"
     ]
    }
   ],
   "source": [
    "device_name_list=[]\n",
    "for device in device_list:\n",
    "    device_name_list.append(device.name)\n",
    "print('Valid device names: ',device_name_list)"
   ]
  },
  {
   "cell_type": "code",
   "execution_count": 6,
   "id": "dfd415e3",
   "metadata": {},
   "outputs": [],
   "source": [
    "def available_devices():\n",
    "    from braket.aws import AwsDevice\n",
    "    device_list=AwsDevice.get_devices(statuses=['ONLINE'])\n",
    "    device_name_list=[]\n",
    "    for device in device_list:\n",
    "        device_name_list.append(device.name)\n",
    "    #print('Valid device names: ',device_name_list)\n",
    "    return(device_name_list)"
   ]
  },
  {
   "cell_type": "code",
   "execution_count": 7,
   "id": "16594d96",
   "metadata": {},
   "outputs": [
    {
     "data": {
      "text/plain": [
       "['Ankaa-3', 'Aquila', 'Forte 1', 'Garnet', 'SV1', 'TN1', 'dm1']"
      ]
     },
     "execution_count": 7,
     "metadata": {},
     "output_type": "execute_result"
    }
   ],
   "source": [
    "available_devices()"
   ]
  },
  {
   "cell_type": "markdown",
   "id": "2b1444f6",
   "metadata": {},
   "source": [
    "#### 2. Assign Device"
   ]
  },
  {
   "cell_type": "markdown",
   "id": "4118adb1",
   "metadata": {},
   "source": [
    "The typical method to assign a **device** is to use the full **arn** as shown below"
   ]
  },
  {
   "cell_type": "code",
   "execution_count": 8,
   "id": "46a063ce",
   "metadata": {},
   "outputs": [],
   "source": [
    "rigetti = AwsDevice(\"arn:aws:braket:us-west-1::device/qpu/rigetti/Ankaa-3\")"
   ]
  },
  {
   "cell_type": "code",
   "execution_count": 9,
   "id": "15c6999d",
   "metadata": {},
   "outputs": [
    {
     "name": "stdout",
     "output_type": "stream",
     "text": [
      "Device('name': Ankaa-3, 'arn': arn:aws:braket:us-west-1::device/qpu/rigetti/Ankaa-3)\n"
     ]
    }
   ],
   "source": [
    "print(rigetti)"
   ]
  },
  {
   "cell_type": "markdown",
   "id": "9bb7878c",
   "metadata": {},
   "source": [
    "Rather than providing the full **arn**, this function only requires the device **name** to set the **device**"
   ]
  },
  {
   "cell_type": "markdown",
   "id": "37ac1d62",
   "metadata": {},
   "source": [
    "device=AwsDevice.get_devices(names=[Name])"
   ]
  },
  {
   "cell_type": "markdown",
   "id": "8a5dee2f",
   "metadata": {},
   "source": [
    "for example if using the device sv1"
   ]
  },
  {
   "cell_type": "code",
   "execution_count": 10,
   "id": "eb6ec915",
   "metadata": {},
   "outputs": [
    {
     "name": "stdout",
     "output_type": "stream",
     "text": [
      "[Device('name': SV1, 'arn': arn:aws:braket:::device/quantum-simulator/amazon/sv1)]\n"
     ]
    }
   ],
   "source": [
    "sv1=AwsDevice.get_devices(names='SV1')\n",
    "print(sv1)"
   ]
  },
  {
   "cell_type": "markdown",
   "id": "3d1b7d3c",
   "metadata": {},
   "source": [
    "Note that the device name is case sensitive"
   ]
  },
  {
   "cell_type": "markdown",
   "id": "6648e551",
   "metadata": {},
   "source": [
    "The function **set_device(Name)** will be used from now on to set the **device** using only the **Name** of the device and the full **arn** will not be needed."
   ]
  },
  {
   "cell_type": "code",
   "execution_count": 11,
   "id": "820da380",
   "metadata": {},
   "outputs": [],
   "source": [
    "def set_device(Name):\n",
    "    device_list=AwsDevice.get_devices(names=Name)\n",
    "    if len(device_list)==1:\n",
    "        device=device_list[0]\n",
    "        print(device)\n",
    "        return(device)\n",
    "    else:\n",
    "        print('No device found')\n",
    "        print('use name from list', available_devices())"
   ]
  },
  {
   "cell_type": "code",
   "execution_count": 12,
   "id": "4937afa4",
   "metadata": {},
   "outputs": [
    {
     "name": "stdout",
     "output_type": "stream",
     "text": [
      "No device found\n",
      "use name from list ['Ankaa-3', 'Aquila', 'Forte 1', 'Garnet', 'SV1', 'TN1', 'dm1']\n"
     ]
    }
   ],
   "source": [
    "device=set_device('svi')"
   ]
  },
  {
   "cell_type": "code",
   "execution_count": null,
   "id": "9394db35",
   "metadata": {},
   "outputs": [],
   "source": []
  },
  {
   "cell_type": "markdown",
   "id": "e1987216",
   "metadata": {},
   "source": [
    "#### 3. Cost Estimation\n",
    "The following code shows how to estimate the cost of the different devices"
   ]
  },
  {
   "cell_type": "code",
   "execution_count": 13,
   "id": "b7a5dab6",
   "metadata": {},
   "outputs": [],
   "source": [
    "def estimate_cost(device,num_shots=1000):\n",
    "    #device=set_device(Name)\n",
    "    cost_per_task=0.30\n",
    "    Name=device.name\n",
    "    if Name in ['SV1','TN1','dm1']:\n",
    "        price_per_min=device.properties.service.deviceCost.price\n",
    "        unit=device.properties.service.deviceCost.unit\n",
    "        print('simulator cost per ',unit,': $', price_per_min)\n",
    "        print('total cost cannot be estimated')\n",
    "    elif Name in['Ankaa-3','Forte 1', 'Aquila', 'Garnet']:\n",
    "        price_per_shot=device.properties.service.deviceCost.price\n",
    "        unit=device.properties.service.deviceCost.unit\n",
    "        print('device cost per ',unit,': $', price_per_shot)\n",
    "        print('total cost for {} shots is ${:.2f}'.format(num_shots,cost_per_task+num_shots*price_per_shot))\n",
    "    else:\n",
    "        print('device not found')\n",
    "        print('use name from list', available_devices())\n"
   ]
  },
  {
   "cell_type": "code",
   "execution_count": 14,
   "id": "eb8f889e",
   "metadata": {},
   "outputs": [
    {
     "name": "stdout",
     "output_type": "stream",
     "text": [
      "Device('name': Aquila, 'arn': arn:aws:braket:us-east-1::device/qpu/quera/Aquila)\n",
      "device cost per  shot : $ 0.01\n",
      "total cost for 1000 shots is $10.30\n"
     ]
    }
   ],
   "source": [
    "device_name='Aquila'\n",
    "device=set_device(device_name)\n",
    "estimate_cost(device)"
   ]
  },
  {
   "cell_type": "markdown",
   "id": "793f8f15",
   "metadata": {},
   "source": [
    "Since the device cost is depended on the number of shots, which should be varied based on the number of qubits being measured. The following function can help in more accurately estimating the cost based on the number of measured qubits."
   ]
  },
  {
   "cell_type": "code",
   "execution_count": 15,
   "id": "118bfee6",
   "metadata": {},
   "outputs": [],
   "source": [
    "def estimate_cost_measured_qubits(device,measured_qubits):\n",
    "    #device=set_device(Name)\n",
    "    min_shots_per_variable=25\n",
    "    max_shots=device.properties.service.shotsRange[1]\n",
    "    print('max shots:', max_shots)\n",
    "    num_shots=min_shots_per_variable*2**measured_qubits\n",
    "    if num_shots>max_shots:\n",
    "        num_shots=max_shots\n",
    "        print('for {} measured qubits the maximum allowed shots: {:,}'.format(measured_qubits,num_shots))\n",
    "    else:\n",
    "        print('for {} measured qubits the number of shots recommended: {:,}'.format(measured_qubits,num_shots))\n",
    "    estimate_cost(device,num_shots)\n"
   ]
  },
  {
   "cell_type": "code",
   "execution_count": 16,
   "id": "63f20af7",
   "metadata": {},
   "outputs": [
    {
     "name": "stdout",
     "output_type": "stream",
     "text": [
      "Device('name': Aquila, 'arn': arn:aws:braket:us-east-1::device/qpu/quera/Aquila)\n",
      "max shots: 1000\n",
      "for 5 measured qubits the number of shots recommended: 800\n",
      "device cost per  shot : $ 0.01\n",
      "total cost for 800 shots is $8.30\n"
     ]
    }
   ],
   "source": [
    "device=set_device('Aquila')\n",
    "estimate_cost_measured_qubits(device, 5)"
   ]
  },
  {
   "cell_type": "markdown",
   "id": "7ff88c6e",
   "metadata": {},
   "source": [
    "In this next block we will make estimates for each of the devices based on the maximum allowed shots"
   ]
  },
  {
   "cell_type": "code",
   "execution_count": 17,
   "id": "5af6959b",
   "metadata": {},
   "outputs": [
    {
     "name": "stdout",
     "output_type": "stream",
     "text": [
      "Device('name': SV1, 'arn': arn:aws:braket:::device/quantum-simulator/amazon/sv1)\n",
      "max shots: 100000\n",
      "for 34 measured qubits the maximum allowed shots: 100,000\n",
      "simulator cost per  minute : $ 0.075\n",
      "total cost cannot be estimated\n",
      "---\n",
      "Device('name': TN1, 'arn': arn:aws:braket:::device/quantum-simulator/amazon/tn1)\n",
      "max shots: 1000\n",
      "for 50 measured qubits the maximum allowed shots: 1,000\n",
      "simulator cost per  minute : $ 0.275\n",
      "total cost cannot be estimated\n",
      "---\n",
      "Device('name': dm1, 'arn': arn:aws:braket:::device/quantum-simulator/amazon/dm1)\n",
      "max shots: 100000\n",
      "for 17 measured qubits the maximum allowed shots: 100,000\n",
      "simulator cost per  minute : $ 0.075\n",
      "total cost cannot be estimated\n",
      "---\n"
     ]
    }
   ],
   "source": [
    "for Name in ['SV1','TN1','dm1']:\n",
    "    device=set_device(Name)\n",
    "    qubit_count = device.properties.paradigm.qubitCount\n",
    "    estimate_cost_measured_qubits(device, qubit_count)\n",
    "    print('---')"
   ]
  },
  {
   "cell_type": "code",
   "execution_count": 18,
   "id": "2810dbee",
   "metadata": {},
   "outputs": [
    {
     "name": "stdout",
     "output_type": "stream",
     "text": [
      "Device('name': Ankaa-3, 'arn': arn:aws:braket:us-west-1::device/qpu/rigetti/Ankaa-3)\n",
      "max shots: 50000\n",
      "for 82 measured qubits the maximum allowed shots: 50,000\n",
      "device cost per  shot : $ 0.0009\n",
      "total cost for 50000 shots is $45.30\n",
      "---\n",
      "Device('name': Forte 1, 'arn': arn:aws:braket:us-east-1::device/qpu/ionq/Forte-1)\n",
      "max shots: 5000\n",
      "for 36 measured qubits the maximum allowed shots: 5,000\n",
      "device cost per  shot : $ 0.08\n",
      "total cost for 5000 shots is $400.30\n",
      "---\n",
      "Device('name': Aquila, 'arn': arn:aws:braket:us-east-1::device/qpu/quera/Aquila)\n",
      "max shots: 1000\n",
      "for 256 measured qubits the maximum allowed shots: 1,000\n",
      "device cost per  shot : $ 0.01\n",
      "total cost for 1000 shots is $10.30\n",
      "---\n",
      "Device('name': Garnet, 'arn': arn:aws:braket:eu-north-1::device/qpu/iqm/Garnet)\n",
      "max shots: 20000\n",
      "for 20 measured qubits the maximum allowed shots: 20,000\n",
      "device cost per  shot : $ 0.00145\n",
      "total cost for 20000 shots is $29.30\n",
      "---\n"
     ]
    }
   ],
   "source": [
    "for Name in ['Ankaa-3','Forte 1','Aquila','Garnet']:\n",
    "    device=set_device(Name)\n",
    "    if Name=='Ankaa-3':\n",
    "        qubit_count=82\n",
    "    if Name=='Aquila':\n",
    "        qubit_count=256\n",
    "    if Name=='Garnet':\n",
    "        qubit_count=20\n",
    "    elif Name=='Forte 1':\n",
    "        qubit_count=36\n",
    "    estimate_cost_measured_qubits(device, qubit_count)\n",
    "    print('---')"
   ]
  },
  {
   "cell_type": "markdown",
   "id": "a3ec7855",
   "metadata": {},
   "source": [
    "Since we could not estimate the cost of the simulators in advance, it is possible to get the cost after execution using the function results.additional_metadata.simulatorMetadata.executionDuration"
   ]
  },
  {
   "cell_type": "markdown",
   "id": "8df81a40",
   "metadata": {},
   "source": [
    "We will come back to this after we have created a simple circuit and visualized that circuit."
   ]
  },
  {
   "cell_type": "code",
   "execution_count": null,
   "id": "c4d0835f",
   "metadata": {},
   "outputs": [],
   "source": []
  },
  {
   "cell_type": "markdown",
   "id": "6691cf54",
   "metadata": {},
   "source": [
    "#### 4. Creating a simple quantum circuit"
   ]
  },
  {
   "cell_type": "code",
   "execution_count": 19,
   "id": "e165dbd6",
   "metadata": {},
   "outputs": [],
   "source": [
    "#!pip install matplotlib"
   ]
  },
  {
   "cell_type": "code",
   "execution_count": 20,
   "id": "8a6636a1",
   "metadata": {},
   "outputs": [],
   "source": [
    "from braket.circuits import Circuit, Gate, Observable\n",
    "from braket.devices import LocalSimulator\n",
    "from braket.aws import AwsDevice\n",
    "import matplotlib.pyplot as plt\n",
    "%matplotlib inline"
   ]
  },
  {
   "cell_type": "markdown",
   "id": "f4e8c1d4",
   "metadata": {},
   "source": [
    "Now we build the circuit using **Circuit**"
   ]
  },
  {
   "cell_type": "code",
   "execution_count": 21,
   "id": "078f21c8",
   "metadata": {},
   "outputs": [],
   "source": [
    "bits = Circuit().i(0).x(1)"
   ]
  },
  {
   "cell_type": "code",
   "execution_count": 22,
   "id": "2e1d653c",
   "metadata": {},
   "outputs": [
    {
     "name": "stdout",
     "output_type": "stream",
     "text": [
      "T  : │  0  │\n",
      "      ┌───┐ \n",
      "q0 : ─┤ I ├─\n",
      "      └───┘ \n",
      "      ┌───┐ \n",
      "q1 : ─┤ X ├─\n",
      "      └───┘ \n",
      "T  : │  0  │\n"
     ]
    }
   ],
   "source": [
    "print(bits)"
   ]
  },
  {
   "cell_type": "code",
   "execution_count": 21,
   "id": "74e202eb",
   "metadata": {},
   "outputs": [
    {
     "name": "stdout",
     "output_type": "stream",
     "text": [
      "Counter({'01': 1000})\n"
     ]
    },
    {
     "data": {
      "image/png": "[encoded data removed]",
      "text/plain": [
       "<Figure size 640x480 with 1 Axes>"
      ]
     },
     "metadata": {},
     "output_type": "display_data"
    }
   ],
   "source": [
    "device = LocalSimulator()\n",
    "result = device.run(bits, shots=1000).result()\n",
    "counts = result.measurement_counts\n",
    "print(counts)\n",
    "plt.bar(counts.keys(), counts.values());\n",
    "plt.xlabel('states');\n",
    "plt.ylabel('counts');"
   ]
  },
  {
   "cell_type": "code",
   "execution_count": 22,
   "id": "97e1a075",
   "metadata": {},
   "outputs": [],
   "source": [
    "def build_binary_circ(N):\n",
    "    binary_num=bin(N)[2:]\n",
    "    num_qubits=len(binary_num)\n",
    "    print(binary_num)\n",
    "    binary_circuit=Circuit()\n",
    "    position=0\n",
    "    for bit in binary_num:\n",
    "        #print(bit)\n",
    "        if bit=='0':\n",
    "            binary_circuit.i(position)\n",
    "        else:\n",
    "            binary_circuit.x(position)\n",
    "        position+=1\n",
    "    return(binary_circuit)   "
   ]
  },
  {
   "cell_type": "code",
   "execution_count": 23,
   "id": "4f59206c",
   "metadata": {},
   "outputs": [
    {
     "name": "stdout",
     "output_type": "stream",
     "text": [
      "110\n",
      "T  : │  0  │\n",
      "      ┌───┐ \n",
      "q0 : ─┤ X ├─\n",
      "      └───┘ \n",
      "      ┌───┐ \n",
      "q1 : ─┤ X ├─\n",
      "      └───┘ \n",
      "      ┌───┐ \n",
      "q2 : ─┤ I ├─\n",
      "      └───┘ \n",
      "T  : │  0  │\n",
      "Counter({'110': 1000})\n"
     ]
    },
    {
     "data": {
      "image/png": "[encoded data removed]",
      "text/plain": [
       "<Figure size 640x480 with 1 Axes>"
      ]
     },
     "metadata": {},
     "output_type": "display_data"
    }
   ],
   "source": [
    "binary_circuit=build_binary_circ(6)\n",
    "print(binary_circuit)\n",
    "device = LocalSimulator()\n",
    "result = device.run(binary_circuit, shots=1000).result()\n",
    "counts = result.measurement_counts\n",
    "print(counts)\n",
    "plt.bar(counts.keys(), counts.values());\n",
    "plt.xlabel('states');\n",
    "plt.ylabel('counts');"
   ]
  },
  {
   "cell_type": "code",
   "execution_count": null,
   "id": "807bb6c3",
   "metadata": {},
   "outputs": [],
   "source": []
  },
  {
   "cell_type": "markdown",
   "id": "1fff0672",
   "metadata": {},
   "source": [
    "#### 5. Running a circuit on a simulator device"
   ]
  },
  {
   "cell_type": "code",
   "execution_count": 24,
   "id": "753e9600",
   "metadata": {},
   "outputs": [],
   "source": [
    "# Enter the S3 bucket you created during onboarding in the code below\n",
    "my_bucket = \"amazon-braket-[bucket]\" # the name of the bucket\n",
    "my_prefix = \"[folder]\" # the name of the folder in the bucket\n",
    "s3_folder = (my_bucket, my_prefix)"
   ]
  },
  {
   "cell_type": "code",
   "execution_count": 25,
   "id": "a68ce70a",
   "metadata": {},
   "outputs": [],
   "source": [
    "def run_circuit(device, circuit, shots, s3_folder):\n",
    "    import matplotlib.pyplot as plt\n",
    "    %matplotlib inline\n",
    "    result = device.run(circuit, shots=shots, s3_destination_folder=s3_folder).result()\n",
    "    counts = result.measurement_counts\n",
    "    print(counts)\n",
    "    plt.bar(counts.keys(), counts.values());\n",
    "    plt.xlabel('states');\n",
    "    plt.ylabel('counts');\n",
    "    return(result)"
   ]
  },
  {
   "cell_type": "code",
   "execution_count": 26,
   "id": "93287cfa",
   "metadata": {},
   "outputs": [],
   "source": [
    "def actual_simulator_cost(device, result):\n",
    "        price_per_min=device.properties.service.deviceCost.price\n",
    "        price_per_ms=price_per_min/60/1000\n",
    "        unit=device.properties.service.deviceCost.unit\n",
    "        duration_ms=result.additional_metadata.simulatorMetadata.executionDuration\n",
    "        if unit=='minute':\n",
    "            print('simulator cost per ',unit,': $', price_per_min)\n",
    "            print('total execution time: ', duration_ms, \"ms\")\n",
    "            print('total cost estimated: $',duration_ms*price_per_ms)"
   ]
  },
  {
   "cell_type": "markdown",
   "id": "08428284",
   "metadata": {},
   "source": [
    "Lets use this function to get the cost for a sample run on SV1"
   ]
  },
  {
   "cell_type": "code",
   "execution_count": 27,
   "id": "697f0e87",
   "metadata": {},
   "outputs": [
    {
     "name": "stdout",
     "output_type": "stream",
     "text": [
      "qubit count:  12\n",
      "101101010000\n",
      "T   : │  0  │\n",
      "       ┌───┐ \n",
      "q0  : ─┤ X ├─\n",
      "       └───┘ \n",
      "       ┌───┐ \n",
      "q1  : ─┤ I ├─\n",
      "       └───┘ \n",
      "       ┌───┐ \n",
      "q2  : ─┤ X ├─\n",
      "       └───┘ \n",
      "       ┌───┐ \n",
      "q3  : ─┤ X ├─\n",
      "       └───┘ \n",
      "       ┌───┐ \n",
      "q4  : ─┤ I ├─\n",
      "       └───┘ \n",
      "       ┌───┐ \n",
      "q5  : ─┤ X ├─\n",
      "       └───┘ \n",
      "       ┌───┐ \n",
      "q6  : ─┤ I ├─\n",
      "       └───┘ \n",
      "       ┌───┐ \n",
      "q7  : ─┤ X ├─\n",
      "       └───┘ \n",
      "       ┌───┐ \n",
      "q8  : ─┤ I ├─\n",
      "       └───┘ \n",
      "       ┌───┐ \n",
      "q9  : ─┤ I ├─\n",
      "       └───┘ \n",
      "       ┌───┐ \n",
      "q10 : ─┤ I ├─\n",
      "       └───┘ \n",
      "       ┌───┐ \n",
      "q11 : ─┤ I ├─\n",
      "       └───┘ \n",
      "T   : │  0  │\n"
     ]
    }
   ],
   "source": [
    "N=2896\n",
    "qubit_count=len(bin(N))-2\n",
    "print('qubit count: ', qubit_count)\n",
    "binary_circuit=build_binary_circ(N)\n",
    "print(binary_circuit)"
   ]
  },
  {
   "cell_type": "code",
   "execution_count": 28,
   "id": "9a5c6fe1",
   "metadata": {},
   "outputs": [
    {
     "name": "stdout",
     "output_type": "stream",
     "text": [
      "Device('name': SV1, 'arn': arn:aws:braket:::device/quantum-simulator/amazon/sv1)\n",
      "max shots: 100000\n",
      "for 12 measured qubits the maximum allowed shots: 100,000\n",
      "simulator cost per  minute : $ 0.075\n",
      "total cost cannot be estimated\n"
     ]
    }
   ],
   "source": [
    "device=set_device('SV1')\n",
    "estimate_cost_measured_qubits(device, qubit_count)"
   ]
  },
  {
   "cell_type": "code",
   "execution_count": 29,
   "id": "74c0250e",
   "metadata": {},
   "outputs": [
    {
     "name": "stdout",
     "output_type": "stream",
     "text": [
      "Counter({'101101010000': 10})\n"
     ]
    },
    {
     "data": {
      "image/png": "[encoded data removed]",
      "text/plain": [
       "<Figure size 640x480 with 1 Axes>"
      ]
     },
     "metadata": {},
     "output_type": "display_data"
    }
   ],
   "source": [
    "result=run_circuit(device, binary_circuit, 10, s3_folder)"
   ]
  },
  {
   "cell_type": "code",
   "execution_count": 30,
   "id": "53053495",
   "metadata": {},
   "outputs": [
    {
     "name": "stdout",
     "output_type": "stream",
     "text": [
      "simulator cost per  minute : $ 0.075\n",
      "total execution time:  2 ms\n",
      "total cost estimated: $ 2.5e-06\n"
     ]
    }
   ],
   "source": [
    "actual_simulator_cost(device, result)"
   ]
  },
  {
   "cell_type": "markdown",
   "id": "b72ab286",
   "metadata": {},
   "source": [
    "### D-Wave test"
   ]
  },
  {
   "cell_type": "code",
   "execution_count": null,
   "id": "7135da39-1f60-411e-a3c0-489970f5dbef",
   "metadata": {},
   "outputs": [],
   "source": [
    "# Please reach out to D-Wave to get access token before running this part"
   ]
  },
  {
   "cell_type": "code",
   "execution_count": 31,
   "id": "76d531f8",
   "metadata": {},
   "outputs": [],
   "source": [
    "import numpy as np\n",
    "from numpy.random import rand\n",
    "\n",
    "from dwave.system.samplers import DWaveSampler\n",
    "from dwave.system.composites import EmbeddingComposite\n",
    "#from minorminer import find_embedding\n",
    "#import networkx as nx\n",
    "#import dwave.inspector"
   ]
  },
  {
   "cell_type": "code",
   "execution_count": 40,
   "id": "be21992d",
   "metadata": {},
   "outputs": [
    {
     "name": "stdout",
     "output_type": "stream",
     "text": [
      "[[ 0.4120053  -0.24753362  0.39102297]\n",
      " [ 0.          0.12007011 -0.73393414]\n",
      " [ 0.          0.          0.47248435]]\n"
     ]
    }
   ],
   "source": [
    "# Random matrix\n",
    "dim=3\n",
    "Q=np.zeros((dim,dim))\n",
    "#Q =  2*rand(dim,dim) - 1\n",
    "#Q = (Q+Q.T)/2\n",
    "for i in range(dim):\n",
    "    for j in range(dim):\n",
    "        if i==j:\n",
    "            Q[i,j] = np.abs(rand())/2\n",
    "        elif i<j:\n",
    "            Q[i,j] = 2*rand()-1\n",
    "\n",
    "print(Q)"
   ]
  },
  {
   "cell_type": "code",
   "execution_count": 41,
   "id": "eed4302b",
   "metadata": {},
   "outputs": [
    {
     "name": "stdout",
     "output_type": "stream",
     "text": [
      "{('a0', 'a0'): np.float64(0.41200530172196664), ('a1', 'a1'): np.float64(0.12007010988976957), ('a2', 'a2'): np.float64(0.47248434623575436), ('a0', 'a1'): np.float64(-0.24753362094605103), ('a0', 'a2'): np.float64(0.39102297299660704), ('a1', 'a2'): np.float64(-0.7339341359135683)}\n"
     ]
    }
   ],
   "source": [
    "# convert matrix into a QUBO with linear=biases and quadratic=couplings terms\n",
    "linear={('a'+str(k), 'a'+str(k)):Q[k][k] for k in range(dim)}\n",
    "\n",
    "quadratic={('a'+str(i), 'a'+str(j)):Q[i][j] for i in range(dim) for j in range(dim) if i<j}\n",
    "\n",
    "QDwave = dict(linear)\n",
    "QDwave.update(quadratic)\n",
    "\n",
    "print(QDwave)"
   ]
  },
  {
   "cell_type": "code",
   "execution_count": 42,
   "id": "b0d65c7c",
   "metadata": {},
   "outputs": [
    {
     "name": "stdout",
     "output_type": "stream",
     "text": [
      "  a0 a1 a2   energy num_oc. chain_.\n",
      "0  0  1  1 -0.14138      10     0.0\n",
      "['BINARY', 1 rows, 10 samples, 3 variables]\n"
     ]
    }
   ],
   "source": [
    "numruns = 10\n",
    "sampler = EmbeddingComposite(DWaveSampler())\n",
    "response = sampler.sample_qubo(QDwave, num_reads=numruns)\n",
    "print(response)\n"
   ]
  },
  {
   "cell_type": "code",
   "execution_count": null,
   "id": "9eed733e",
   "metadata": {},
   "outputs": [],
   "source": []
  }
 ],
 "metadata": {
  "kernelspec": {
   "display_name": "Python 3 (ipykernel)",
   "language": "python",
   "name": "python3"
  },
  "language_info": {
   "codemirror_mode": {
    "name": "ipython",
    "version": 3
   },
   "file_extension": ".py",
   "mimetype": "text/x-python",
   "name": "python",
   "nbconvert_exporter": "python",
   "pygments_lexer": "ipython3",
   "version": "3.12.7"
  }
 },
 "nbformat": 4,
 "nbformat_minor": 5
}

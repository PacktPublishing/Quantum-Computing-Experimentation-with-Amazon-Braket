{
 "cells": [
  {
   "cell_type": "markdown",
   "id": "1dc1ee45",
   "metadata": {},
   "source": [
    "# Quantum Computing Using Amazon Braket\n",
    "#### Chapter 5 - Using Quantum Annealer - Developing a QUBO function and using Constraints\n",
    "\n",
    "#### 3 variable example\n",
    "© 2021, 2022 Packt Publishing\n",
    "\n",
    "#### Written by Alex Khan"
   ]
  },
  {
   "cell_type": "markdown",
   "id": "6b8ec9dc",
   "metadata": {},
   "source": [
    "#### 1. First QUBO example using ExactSolver()"
   ]
  },
  {
   "cell_type": "code",
   "execution_count": 1,
   "id": "6c68ebcc",
   "metadata": {},
   "outputs": [],
   "source": [
    "import dimod"
   ]
  },
  {
   "cell_type": "markdown",
   "id": "56b2d90e",
   "metadata": {},
   "source": [
    "Our goal is to minimize the following cost function"
   ]
  },
  {
   "cell_type": "markdown",
   "id": "f032f25c",
   "metadata": {},
   "source": [
    "$ minimize\\ (\\ a_0x_0\\ {+\\ a}_1x_1+a_2x_2+a_{01}x_0x_1+a_{02}x_0x_2+\\ a_{12}x_1x_2\\ )\\ \\ eq.\\ (2)\\ $ "
   ]
  },
  {
   "cell_type": "markdown",
   "id": "5376e387",
   "metadata": {},
   "source": [
    "The values of the coefficients are given in the equation below"
   ]
  },
  {
   "cell_type": "markdown",
   "id": "e9936ed8",
   "metadata": {},
   "source": [
    "$minimize\\ (\\ -0.5x_0\\ +\\ x_1\\ -\\ 0.75x_2+0.5x_0x_1\\ -\\ 0.25x_0x_2+\\ 0.25x_1x_2\\ )\\ \\ eq.\\ (3)$"
   ]
  },
  {
   "cell_type": "markdown",
   "id": "a484e84b",
   "metadata": {},
   "source": [
    "This is also represented in the graph form"
   ]
  },
  {
   "attachments": {
    "image.png": {
     "image/png": "[encoded data removed]"
    }
   },
   "cell_type": "markdown",
   "id": "781d8058",
   "metadata": {},
   "source": [
    "![image.png](attachment:image.png)"
   ]
  },
  {
   "cell_type": "markdown",
   "id": "cc16f861",
   "metadata": {},
   "source": [
    "Let us define the coefficients in a dictionary form"
   ]
  },
  {
   "cell_type": "markdown",
   "id": "968c1332",
   "metadata": {},
   "source": [
    "First we will create the **linear coefficients**. The linear coefficients $a_0, a_1, a_2$ are associated with the variables $x_0, x_1$ and $x_2.$"
   ]
  },
  {
   "cell_type": "code",
   "execution_count": 2,
   "id": "45d36062",
   "metadata": {},
   "outputs": [
    {
     "name": "stdout",
     "output_type": "stream",
     "text": [
      "{'x0': -0.5, 'x1': 1.0, 'x2': -0.75}\n"
     ]
    }
   ],
   "source": [
    "linear={('x0'):-0.5, ('x1'):1.0, ('x2'):-0.75}\n",
    "print(linear)"
   ]
  },
  {
   "cell_type": "markdown",
   "id": "eb92c941",
   "metadata": {},
   "source": [
    "Next we insert the **quadratic coefficients**. The quadratic coefficients $a_{01}, a_{02}, a_{12}$ are the coupling terms between the pair of variables $x_0x_1, x_0x_2,$ and $x_1x_2$"
   ]
  },
  {
   "cell_type": "code",
   "execution_count": 3,
   "id": "a597b368",
   "metadata": {},
   "outputs": [
    {
     "name": "stdout",
     "output_type": "stream",
     "text": [
      "{('x0', 'x1'): 0.5, ('x0', 'x2'): -0.25, ('x1', 'x2'): 0.25}\n"
     ]
    }
   ],
   "source": [
    "quadratic={('x0','x1'):0.5, ('x0','x2'):-0.25, ('x1','x2'):0.25}\n",
    "print(quadratic)"
   ]
  },
  {
   "cell_type": "markdown",
   "id": "078d2174",
   "metadata": {},
   "source": [
    "now we can use the **dimod** function **BinaryQuadraticModel** to combine these two linear and quadratic terms and also identify the variables $(x_0...x_2)$ as **Binary**."
   ]
  },
  {
   "cell_type": "code",
   "execution_count": 4,
   "id": "f704c6e5",
   "metadata": {},
   "outputs": [],
   "source": [
    "vartype = dimod.BINARY\n",
    "bqm = dimod.BinaryQuadraticModel(linear, quadratic, vartype)"
   ]
  },
  {
   "cell_type": "markdown",
   "id": "9b2ca6fc",
   "metadata": {},
   "source": [
    "We are now ready to execute this cost function on the dimod local solver that will accurately produce all the appropriate cost values for the different combination of x values as 0 or 1. The solution is then sorted with the lowest cost shown first."
   ]
  },
  {
   "cell_type": "code",
   "execution_count": 5,
   "id": "dd4e830b",
   "metadata": {},
   "outputs": [
    {
     "name": "stdout",
     "output_type": "stream",
     "text": [
      "  x0 x1 x2 energy num_oc.\n",
      "6  1  0  1   -1.5       1\n",
      "7  0  0  1  -0.75       1\n",
      "1  1  0  0   -0.5       1\n",
      "0  0  0  0    0.0       1\n",
      "5  1  1  1   0.25       1\n",
      "4  0  1  1    0.5       1\n",
      "2  1  1  0    1.0       1\n",
      "3  0  1  0    1.0       1\n",
      "['BINARY', 8 rows, 8 samples, 3 variables]\n"
     ]
    }
   ],
   "source": [
    "sampler = dimod.ExactSolver()\n",
    "response = sampler.sample(bqm)\n",
    "print(response)\n"
   ]
  },
  {
   "cell_type": "markdown",
   "id": "8c6c718f",
   "metadata": {},
   "source": [
    "The first row shows that the lowest cost solution has a value of -1.5 and requires $x_0=1, x_1=0$ and $x_2=1.$ The next lowest energy of -0.75 is found when only $x_2=1,$ while $x_0$ and $x_1$ are 0."
   ]
  },
  {
   "cell_type": "markdown",
   "id": "2b08a527",
   "metadata": {},
   "source": [
    "#### 2. Running the 3 variable problem on D-Wave annealer"
   ]
  },
  {
   "cell_type": "markdown",
   "id": "87b2503f",
   "metadata": {},
   "source": [
    "Please enter the appropriate bucket name and your folder name below."
   ]
  },
  {
   "cell_type": "code",
   "execution_count": 6,
   "id": "0bed279b",
   "metadata": {},
   "outputs": [],
   "source": [
    "# Enter the S3 bucket you created during onboarding in the code below\n",
    "my_bucket = \"amazon-braket-[your bucket]\" # the name of the bucket\n",
    "my_prefix = \"[your folder]\" # the name of the folder in the bucket\n",
    "s3_folder = (my_bucket, my_prefix)"
   ]
  },
  {
   "cell_type": "markdown",
   "id": "23176430",
   "metadata": {},
   "source": [
    "We will import additional libraries needed from Braket to designate the D-Wave sampler perform the embedding and then run the solver through Amazon Braket."
   ]
  },
  {
   "cell_type": "code",
   "execution_count": 7,
   "id": "b1ab1102",
   "metadata": {},
   "outputs": [],
   "source": [
    "from braket.aws import AwsDevice\n",
    "from braket.ocean_plugin import BraketSampler, BraketDWaveSampler\n",
    "from dwave.system.composites import EmbeddingComposite"
   ]
  },
  {
   "cell_type": "code",
   "execution_count": 8,
   "id": "5de82554",
   "metadata": {},
   "outputs": [],
   "source": [
    "def available_devices():\n",
    "    from braket.aws import AwsDevice\n",
    "    device_list=AwsDevice.get_devices(statuses=['ONLINE'])\n",
    "    device_name_list=[]\n",
    "    for device in device_list:\n",
    "        device_name_list.append(device.name)\n",
    "    #print('Valid device names: ',device_name_list)\n",
    "    return(device_name_list)"
   ]
  },
  {
   "cell_type": "code",
   "execution_count": 9,
   "id": "36623afa",
   "metadata": {},
   "outputs": [
    {
     "data": {
      "text/plain": [
       "['Advantage_system4.1',\n",
       " 'Advantage_system6.1',\n",
       " 'Aspen-M-1',\n",
       " 'DW_2000Q_6',\n",
       " 'IonQ Device',\n",
       " 'SV1',\n",
       " 'TN1',\n",
       " 'dm1']"
      ]
     },
     "execution_count": 9,
     "metadata": {},
     "output_type": "execute_result"
    }
   ],
   "source": [
    "available_devices()"
   ]
  },
  {
   "cell_type": "markdown",
   "id": "fb19a787",
   "metadata": {},
   "source": [
    "We will designate the 'DW_2000Q_6' as the device and then use the BraketDWaveSampler function to set up the sampler and the EmbeddingComposite function to map the variables to the lattice of qubits on D-Wave 2000Q. We also find some properties of the device and print them out."
   ]
  },
  {
   "cell_type": "code",
   "execution_count": 18,
   "id": "387f9d5f",
   "metadata": {},
   "outputs": [
    {
     "name": "stdout",
     "output_type": "stream",
     "text": [
      "Number of qubits:  2048\n",
      "Number of couplers 5974\n",
      "Shots max 10,000\n"
     ]
    }
   ],
   "source": [
    "DWave_device='DW_2000Q_6' #if using 2000Q\n",
    "# DWave_device='Advantage_system6.1' #if using advantage 6.1\n",
    "# DWave_device='Advantage_system4.1' #if using advantage 4.1\n",
    "\n",
    "# Please run available_devices() to validate the latest QPU available and edit the above list\n",
    "\n",
    "device =AwsDevice.get_devices(names=DWave_device)[0]\n",
    "sampler = BraketDWaveSampler(s3_folder,device.arn)\n",
    "sampler = EmbeddingComposite(sampler)\n",
    "max_shots=device.properties.service.shotsRange[1]\n",
    "print('Number of qubits: ', device.properties.provider.qubitCount)\n",
    "print('Number of couplers', len(device.properties.provider.couplers))\n",
    "print('Shots max {:,}'.format(max_shots) )"
   ]
  },
  {
   "cell_type": "markdown",
   "id": "95fa3aac",
   "metadata": {},
   "source": [
    "The code below allows us to estimate the number of shots that are desired for the three variables and and the price."
   ]
  },
  {
   "cell_type": "code",
   "execution_count": 19,
   "id": "6519e8a9",
   "metadata": {},
   "outputs": [
    {
     "name": "stdout",
     "output_type": "stream",
     "text": [
      "Recommended shots 200\n",
      "Estimated cost $0.34\n"
     ]
    }
   ],
   "source": [
    "#Estimate cost:\n",
    "variables=3\n",
    "shots=25*2**variables\n",
    "if shots>max_shots:\n",
    "    shots=max_shots\n",
    "price_per_shot=device.properties.service.deviceCost.price\n",
    "print('Recommended shots', shots)\n",
    "print('Estimated cost ${:.2f}'.format(0.3+price_per_shot*shots))"
   ]
  },
  {
   "cell_type": "markdown",
   "id": "f1aff5bf",
   "metadata": {},
   "source": [
    "Chain strength is not needed with such a small number of variables, the embedding will use one qubit per variable, so there will be no \"chain\" of qubits that represent one variable. Finally we run the D-Wave sampler using the binary quadratic model of our problem cost function, and the required shots."
   ]
  },
  {
   "cell_type": "code",
   "execution_count": 20,
   "id": "f63672ff",
   "metadata": {},
   "outputs": [],
   "source": [
    "#chainstrength = 1\n",
    "response = sampler.sample(bqm, num_reads=shots)\n"
   ]
  },
  {
   "cell_type": "code",
   "execution_count": 21,
   "id": "3808e2b8",
   "metadata": {},
   "outputs": [
    {
     "name": "stdout",
     "output_type": "stream",
     "text": [
      "  x0 x1 x2 energy num_oc. chain_.\n",
      "0  1  0  1   -1.5     200     0.0\n",
      "['BINARY', 1 rows, 200 samples, 3 variables]\n"
     ]
    }
   ],
   "source": [
    "print(response)"
   ]
  },
  {
   "cell_type": "markdown",
   "id": "a2f43784",
   "metadata": {},
   "source": [
    "The solution shows that D-Wave find x_0=1, x_1=0 and x_2=1 as the best solution with the lowest cost value of -1.5. Notice that D-Wave found this for all 200 shots. This clearly shows that D-Wave was efficiently able to find this solution."
   ]
  },
  {
   "cell_type": "code",
   "execution_count": null,
   "id": "1866d8c9",
   "metadata": {},
   "outputs": [],
   "source": []
  }
 ],
 "metadata": {
  "kernelspec": {
   "display_name": "Python 3 (ipykernel)",
   "language": "python",
   "name": "python3"
  },
  "language_info": {
   "codemirror_mode": {
    "name": "ipython",
    "version": 3
   },
   "file_extension": ".py",
   "mimetype": "text/x-python",
   "name": "python",
   "nbconvert_exporter": "python",
   "pygments_lexer": "ipython3",
   "version": "3.9.7"
  }
 },
 "nbformat": 4,
 "nbformat_minor": 5
}

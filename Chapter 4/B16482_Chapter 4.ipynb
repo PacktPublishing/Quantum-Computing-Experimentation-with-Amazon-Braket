{
 "cells": [
  {
   "cell_type": "markdown",
   "id": "273c1766",
   "metadata": {},
   "source": [
    "# Quantum Computing Using Amazon Braket\n",
    "### Chapter 4 - Writing your first Amazon Braket Code Sample\n",
    "<p> © 2021, 2022 Packt Publishing\n",
    "<p> Written by Alex Khan\n"
   ]
  },
  {
   "cell_type": "markdown",
   "id": "8206bc35",
   "metadata": {},
   "source": [
    "#### 1. Find Active Devices\n",
    "The following code retrieves active devices in Amazon Braket\n",
    "\n",
    "More information can be found at https://amazon-braket-sdk-python.readthedocs.io/en/stable/_apidoc/braket.aws.aws_device.html"
   ]
  },
  {
   "cell_type": "code",
   "execution_count": 1,
   "id": "c6761e60",
   "metadata": {},
   "outputs": [],
   "source": [
    "from braket.aws import AwsDevice"
   ]
  },
  {
   "cell_type": "code",
   "execution_count": 2,
   "id": "ffb99a12",
   "metadata": {},
   "outputs": [],
   "source": [
    "device_list=AwsDevice.get_devices(statuses=['ONLINE'])"
   ]
  },
  {
   "cell_type": "code",
   "execution_count": 3,
   "id": "f0717ea7",
   "metadata": {},
   "outputs": [
    {
     "name": "stdout",
     "output_type": "stream",
     "text": [
      "[Device('name': Advantage_system4.1, 'arn': arn:aws:braket:::device/qpu/d-wave/Advantage_system4), Device('name': Advantage_system6.1, 'arn': arn:aws:braket:us-west-2::device/qpu/d-wave/Advantage_system6), Device('name': Aspen-M-1, 'arn': arn:aws:braket:us-west-1::device/qpu/rigetti/Aspen-M-1), Device('name': DW_2000Q_6, 'arn': arn:aws:braket:::device/qpu/d-wave/DW_2000Q_6), Device('name': IonQ Device, 'arn': arn:aws:braket:::device/qpu/ionq/ionQdevice), Device('name': SV1, 'arn': arn:aws:braket:::device/quantum-simulator/amazon/sv1), Device('name': TN1, 'arn': arn:aws:braket:::device/quantum-simulator/amazon/tn1), Device('name': dm1, 'arn': arn:aws:braket:::device/quantum-simulator/amazon/dm1)]\n"
     ]
    }
   ],
   "source": [
    "print(device_list)"
   ]
  },
  {
   "cell_type": "code",
   "execution_count": 4,
   "id": "ba3c42a6",
   "metadata": {},
   "outputs": [
    {
     "name": "stdout",
     "output_type": "stream",
     "text": [
      "Valid device names:  ['Advantage_system4.1', 'Advantage_system6.1', 'Aspen-M-1', 'DW_2000Q_6', 'IonQ Device', 'SV1', 'TN1', 'dm1']\n"
     ]
    }
   ],
   "source": [
    "device_name_list=[]\n",
    "for device in device_list:\n",
    "    device_name_list.append(device.name)\n",
    "print('Valid device names: ',device_name_list)"
   ]
  },
  {
   "cell_type": "code",
   "execution_count": 5,
   "id": "dfd415e3",
   "metadata": {},
   "outputs": [],
   "source": [
    "def available_devices():\n",
    "    from braket.aws import AwsDevice\n",
    "    device_list=AwsDevice.get_devices(statuses=['ONLINE'])\n",
    "    device_name_list=[]\n",
    "    for device in device_list:\n",
    "        device_name_list.append(device.name)\n",
    "    #print('Valid device names: ',device_name_list)\n",
    "    return(device_name_list)"
   ]
  },
  {
   "cell_type": "code",
   "execution_count": 6,
   "id": "16594d96",
   "metadata": {},
   "outputs": [
    {
     "data": {
      "text/plain": [
       "['Advantage_system4.1',\n",
       " 'Advantage_system6.1',\n",
       " 'Aspen-M-1',\n",
       " 'DW_2000Q_6',\n",
       " 'IonQ Device',\n",
       " 'SV1',\n",
       " 'TN1',\n",
       " 'dm1']"
      ]
     },
     "execution_count": 6,
     "metadata": {},
     "output_type": "execute_result"
    }
   ],
   "source": [
    "available_devices()"
   ]
  },
  {
   "cell_type": "markdown",
   "id": "2b1444f6",
   "metadata": {},
   "source": [
    "#### 2. Assign Device"
   ]
  },
  {
   "cell_type": "markdown",
   "id": "4118adb1",
   "metadata": {},
   "source": [
    "The typical method to assign a **device** is to use the full **arn** as shown below"
   ]
  },
  {
   "cell_type": "code",
   "execution_count": 8,
   "id": "46a063ce",
   "metadata": {},
   "outputs": [],
   "source": [
    "rigetti = AwsDevice(\"arn:aws:braket:us-west-1::device/qpu/rigetti/Aspen-M-1\")"
   ]
  },
  {
   "cell_type": "code",
   "execution_count": 10,
   "id": "15c6999d",
   "metadata": {},
   "outputs": [
    {
     "name": "stdout",
     "output_type": "stream",
     "text": [
      "Device('name': Aspen-M-1, 'arn': arn:aws:braket:us-west-1::device/qpu/rigetti/Aspen-M-1)\n"
     ]
    }
   ],
   "source": [
    "print(rigetti)"
   ]
  },
  {
   "cell_type": "markdown",
   "id": "9bb7878c",
   "metadata": {},
   "source": [
    "Rather than providing the full **arn**, this function only requires the device **name** to set the **device**"
   ]
  },
  {
   "cell_type": "markdown",
   "id": "37ac1d62",
   "metadata": {},
   "source": [
    "device=AwsDevice.get_devices(names=[Name])"
   ]
  },
  {
   "cell_type": "markdown",
   "id": "8a5dee2f",
   "metadata": {},
   "source": [
    "for example if using the device sv1"
   ]
  },
  {
   "cell_type": "code",
   "execution_count": 11,
   "id": "eb6ec915",
   "metadata": {},
   "outputs": [
    {
     "name": "stdout",
     "output_type": "stream",
     "text": [
      "[Device('name': SV1, 'arn': arn:aws:braket:::device/quantum-simulator/amazon/sv1)]\n"
     ]
    }
   ],
   "source": [
    "sv1=AwsDevice.get_devices(names='SV1')\n",
    "print(sv1)"
   ]
  },
  {
   "cell_type": "markdown",
   "id": "3d1b7d3c",
   "metadata": {},
   "source": [
    "Note that the device name is case sensitive"
   ]
  },
  {
   "cell_type": "markdown",
   "id": "6648e551",
   "metadata": {},
   "source": [
    "The function **set_device(Name)** will be used from now on to set the **device** using only the **Name** of the device and the full **arn** will not be needed."
   ]
  },
  {
   "cell_type": "code",
   "execution_count": 12,
   "id": "820da380",
   "metadata": {},
   "outputs": [],
   "source": [
    "def set_device(Name):\n",
    "    device_list=AwsDevice.get_devices(names=Name)\n",
    "    if len(device_list)==1:\n",
    "        device=device_list[0]\n",
    "        print(device)\n",
    "        return(device)\n",
    "    else:\n",
    "        print('No device found')\n",
    "        print('use name from list', available_devices())"
   ]
  },
  {
   "cell_type": "code",
   "execution_count": 13,
   "id": "4937afa4",
   "metadata": {},
   "outputs": [
    {
     "name": "stdout",
     "output_type": "stream",
     "text": [
      "No device found\n",
      "use name from list ['Advantage_system4.1', 'Advantage_system6.1', 'Aspen-M-1', 'DW_2000Q_6', 'IonQ Device', 'SV1', 'TN1', 'dm1']\n"
     ]
    }
   ],
   "source": [
    "device=set_device('svi')"
   ]
  },
  {
   "cell_type": "code",
   "execution_count": null,
   "id": "9394db35",
   "metadata": {},
   "outputs": [],
   "source": []
  },
  {
   "cell_type": "markdown",
   "id": "e1987216",
   "metadata": {},
   "source": [
    "#### 3. Cost Estimation\n",
    "The following code shows how to estimate the cost of the different devices"
   ]
  },
  {
   "cell_type": "code",
   "execution_count": 14,
   "id": "b7a5dab6",
   "metadata": {},
   "outputs": [],
   "source": [
    "def estimate_cost(device,num_shots=1000):\n",
    "    #device=set_device(Name)\n",
    "    cost_per_task=0.30\n",
    "    Name=device.name\n",
    "    if Name in ['SV1','TN1','dm1']:\n",
    "        price_per_min=device.properties.service.deviceCost.price\n",
    "        unit=device.properties.service.deviceCost.unit\n",
    "        print('simulator cost per ',unit,': $', price_per_min)\n",
    "        print('total cost cannot be estimated')\n",
    "    elif Name in['Advantage_system6.1','Advantage_system4.1','DW_2000Q_6','Aspen-M-1','IonQ Device']:\n",
    "        price_per_shot=device.properties.service.deviceCost.price\n",
    "        unit=device.properties.service.deviceCost.unit\n",
    "        print('device cost per ',unit,': $', price_per_shot)\n",
    "        print('total cost for {} shots is ${:.2f}'.format(num_shots,cost_per_task+num_shots*price_per_shot))\n",
    "    else:\n",
    "        print('device not found')\n",
    "        print('use name from list', available_devices())\n"
   ]
  },
  {
   "cell_type": "code",
   "execution_count": 16,
   "id": "eb8f889e",
   "metadata": {},
   "outputs": [
    {
     "name": "stdout",
     "output_type": "stream",
     "text": [
      "Device('name': Advantage_system6.1, 'arn': arn:aws:braket:us-west-2::device/qpu/d-wave/Advantage_system6)\n",
      "device cost per  shot : $ 0.00019\n",
      "total cost for 1000 shots is $0.49\n"
     ]
    }
   ],
   "source": [
    "device_name='Advantage_system6.1'\n",
    "device=set_device(device_name)\n",
    "estimate_cost(device)"
   ]
  },
  {
   "cell_type": "markdown",
   "id": "793f8f15",
   "metadata": {},
   "source": [
    "Since the device cost is depended on the number of shots, which should be varied based on the number of qubits being measured. The following function can help in more accurately estimating the cost based on the number of measured qubits."
   ]
  },
  {
   "cell_type": "code",
   "execution_count": 17,
   "id": "118bfee6",
   "metadata": {},
   "outputs": [],
   "source": [
    "def estimate_cost_measured_qubits(device,measured_qubits):\n",
    "    #device=set_device(Name)\n",
    "    min_shots_per_variable=25\n",
    "    max_shots=device.properties.service.shotsRange[1]\n",
    "    print('max shots:', max_shots)\n",
    "    num_shots=min_shots_per_variable*2**measured_qubits\n",
    "    if num_shots>max_shots:\n",
    "        num_shots=max_shots\n",
    "        print('for {} measured qubits the maximum allowed shots: {:,}'.format(measured_qubits,num_shots))\n",
    "    else:\n",
    "        print('for {} measured qubits the number of shots recommended: {:,}'.format(measured_qubits,num_shots))\n",
    "    estimate_cost(device,num_shots)\n"
   ]
  },
  {
   "cell_type": "code",
   "execution_count": 18,
   "id": "63f20af7",
   "metadata": {},
   "outputs": [
    {
     "name": "stdout",
     "output_type": "stream",
     "text": [
      "Device('name': IonQ Device, 'arn': arn:aws:braket:::device/qpu/ionq/ionQdevice)\n",
      "max shots: 10000\n",
      "for 5 measured qubits the number of shots recommended: 800\n",
      "device cost per  shot : $ 0.01\n",
      "total cost for 800 shots is $8.30\n"
     ]
    }
   ],
   "source": [
    "device=set_device('IonQ Device')\n",
    "estimate_cost_measured_qubits(device, 5)"
   ]
  },
  {
   "cell_type": "markdown",
   "id": "7ff88c6e",
   "metadata": {},
   "source": [
    "In this next block we will make estimates for each of the devices based on the maximum allowed shots"
   ]
  },
  {
   "cell_type": "code",
   "execution_count": 20,
   "id": "5af6959b",
   "metadata": {},
   "outputs": [
    {
     "name": "stdout",
     "output_type": "stream",
     "text": [
      "Device('name': SV1, 'arn': arn:aws:braket:::device/quantum-simulator/amazon/sv1)\n",
      "max shots: 100000\n",
      "for 34 measured qubits the maximum allowed shots: 100,000\n",
      "simulator cost per  minute : $ 0.075\n",
      "total cost cannot be estimated\n",
      "---\n",
      "Device('name': TN1, 'arn': arn:aws:braket:::device/quantum-simulator/amazon/tn1)\n",
      "max shots: 1000\n",
      "for 50 measured qubits the maximum allowed shots: 1,000\n",
      "simulator cost per  minute : $ 0.275\n",
      "total cost cannot be estimated\n",
      "---\n",
      "Device('name': dm1, 'arn': arn:aws:braket:::device/quantum-simulator/amazon/dm1)\n",
      "max shots: 100000\n",
      "for 17 measured qubits the maximum allowed shots: 100,000\n",
      "simulator cost per  minute : $ 0.075\n",
      "total cost cannot be estimated\n",
      "---\n"
     ]
    }
   ],
   "source": [
    "for Name in ['SV1','TN1','dm1']:\n",
    "    device=set_device(Name)\n",
    "    qubit_count = device.properties.paradigm.qubitCount\n",
    "    estimate_cost_measured_qubits(device, qubit_count)\n",
    "    print('---')"
   ]
  },
  {
   "cell_type": "code",
   "execution_count": 21,
   "id": "cee857a7",
   "metadata": {},
   "outputs": [
    {
     "name": "stdout",
     "output_type": "stream",
     "text": [
      "Device('name': Advantage_system6.1, 'arn': arn:aws:braket:us-west-2::device/qpu/d-wave/Advantage_system6)\n",
      "max shots: 10000\n",
      "for 5760 measured qubits the maximum allowed shots: 10,000\n",
      "device cost per  shot : $ 0.00019\n",
      "total cost for 10000 shots is $2.20\n",
      "---\n",
      "Device('name': Advantage_system4.1, 'arn': arn:aws:braket:::device/qpu/d-wave/Advantage_system4)\n",
      "max shots: 10000\n",
      "for 5760 measured qubits the maximum allowed shots: 10,000\n",
      "device cost per  shot : $ 0.00019\n",
      "total cost for 10000 shots is $2.20\n",
      "---\n",
      "Device('name': DW_2000Q_6, 'arn': arn:aws:braket:::device/qpu/d-wave/DW_2000Q_6)\n",
      "max shots: 10000\n",
      "for 2048 measured qubits the maximum allowed shots: 10,000\n",
      "device cost per  shot : $ 0.00019\n",
      "total cost for 10000 shots is $2.20\n",
      "---\n"
     ]
    }
   ],
   "source": [
    "for Name in ['Advantage_system6.1','Advantage_system4.1','DW_2000Q_6']:\n",
    "    device=set_device(Name)\n",
    "    qubit_count = device.properties.provider.qubitCount\n",
    "    estimate_cost_measured_qubits(device, qubit_count)\n",
    "    print('---')"
   ]
  },
  {
   "cell_type": "code",
   "execution_count": 22,
   "id": "2810dbee",
   "metadata": {},
   "outputs": [
    {
     "name": "stdout",
     "output_type": "stream",
     "text": [
      "Device('name': Aspen-M-1, 'arn': arn:aws:braket:us-west-1::device/qpu/rigetti/Aspen-M-1)\n",
      "max shots: 100000\n",
      "for 2048 measured qubits the maximum allowed shots: 100,000\n",
      "device cost per  shot : $ 0.00035\n",
      "total cost for 100000 shots is $35.30\n",
      "---\n",
      "Device('name': IonQ Device, 'arn': arn:aws:braket:::device/qpu/ionq/ionQdevice)\n",
      "max shots: 10000\n",
      "for 11 measured qubits the maximum allowed shots: 10,000\n",
      "device cost per  shot : $ 0.01\n",
      "total cost for 10000 shots is $100.30\n",
      "---\n"
     ]
    }
   ],
   "source": [
    "for Name in ['Aspen-M-1','IonQ Device']:\n",
    "    device=set_device(Name)\n",
    "    if Name=='Aspen-9':\n",
    "        qubit_count=31\n",
    "    elif Name=='IonQ Device':\n",
    "        qubit_count=11\n",
    "    estimate_cost_measured_qubits(device, qubit_count)\n",
    "    print('---')"
   ]
  },
  {
   "cell_type": "markdown",
   "id": "a3ec7855",
   "metadata": {},
   "source": [
    "Since we could not estimate the cost of the simulators in advance, it is possible to get the cost after execution using the function results.additional_metadata.simulatorMetadata.executionDuration"
   ]
  },
  {
   "cell_type": "markdown",
   "id": "8df81a40",
   "metadata": {},
   "source": [
    "We will come back to this after we have created a simple circuit and visualized that circuit."
   ]
  },
  {
   "cell_type": "code",
   "execution_count": null,
   "id": "c4d0835f",
   "metadata": {},
   "outputs": [],
   "source": []
  },
  {
   "cell_type": "markdown",
   "id": "6691cf54",
   "metadata": {},
   "source": [
    "#### 4. Creating a simple quantum circuit"
   ]
  },
  {
   "cell_type": "code",
   "execution_count": 23,
   "id": "8a6636a1",
   "metadata": {},
   "outputs": [],
   "source": [
    "from braket.circuits import Circuit, Gate, Observable\n",
    "from braket.devices import LocalSimulator\n",
    "from braket.aws import AwsDevice\n",
    "import matplotlib.pyplot as plt\n",
    "%matplotlib inline"
   ]
  },
  {
   "cell_type": "markdown",
   "id": "f4e8c1d4",
   "metadata": {},
   "source": [
    "Now we build the circuit using **Circuit**"
   ]
  },
  {
   "cell_type": "code",
   "execution_count": 24,
   "id": "078f21c8",
   "metadata": {},
   "outputs": [],
   "source": [
    "bits = Circuit().i(0).x(1)"
   ]
  },
  {
   "cell_type": "code",
   "execution_count": 25,
   "id": "2e1d653c",
   "metadata": {},
   "outputs": [
    {
     "name": "stdout",
     "output_type": "stream",
     "text": [
      "T  : |0|\n",
      "        \n",
      "q0 : -I-\n",
      "        \n",
      "q1 : -X-\n",
      "\n",
      "T  : |0|\n"
     ]
    }
   ],
   "source": [
    "print(bits)"
   ]
  },
  {
   "cell_type": "code",
   "execution_count": 26,
   "id": "74e202eb",
   "metadata": {},
   "outputs": [
    {
     "name": "stdout",
     "output_type": "stream",
     "text": [
      "Counter({'01': 1000})\n"
     ]
    },
    {
     "data": {
      "image/png": "[encoded data removed]",
      "text/plain": [
       "<Figure size 432x288 with 1 Axes>"
      ]
     },
     "metadata": {
      "needs_background": "light"
     },
     "output_type": "display_data"
    }
   ],
   "source": [
    "device = LocalSimulator()\n",
    "result = device.run(bits, shots=1000).result()\n",
    "counts = result.measurement_counts\n",
    "print(counts)\n",
    "plt.bar(counts.keys(), counts.values());\n",
    "plt.xlabel('states');\n",
    "plt.ylabel('counts');"
   ]
  },
  {
   "cell_type": "code",
   "execution_count": 27,
   "id": "97e1a075",
   "metadata": {},
   "outputs": [],
   "source": [
    "def build_binary_circ(N):\n",
    "    binary_num=bin(N)[2:]\n",
    "    num_qubits=len(binary_num)\n",
    "    print(binary_num)\n",
    "    binary_circuit=Circuit()\n",
    "    position=0\n",
    "    for bit in binary_num:\n",
    "        #print(bit)\n",
    "        if bit=='0':\n",
    "            binary_circuit.i(position)\n",
    "        else:\n",
    "            binary_circuit.x(position)\n",
    "        position+=1\n",
    "    return(binary_circuit)   "
   ]
  },
  {
   "cell_type": "code",
   "execution_count": 28,
   "id": "4f59206c",
   "metadata": {},
   "outputs": [
    {
     "name": "stdout",
     "output_type": "stream",
     "text": [
      "110\n",
      "T  : |0|\n",
      "        \n",
      "q0 : -X-\n",
      "        \n",
      "q1 : -X-\n",
      "        \n",
      "q2 : -I-\n",
      "\n",
      "T  : |0|\n",
      "Counter({'110': 1000})\n"
     ]
    },
    {
     "data": {
      "image/png": "[encoded data removed]",
      "text/plain": [
       "<Figure size 432x288 with 1 Axes>"
      ]
     },
     "metadata": {
      "needs_background": "light"
     },
     "output_type": "display_data"
    }
   ],
   "source": [
    "binary_circuit=build_binary_circ(6)\n",
    "print(binary_circuit)\n",
    "device = LocalSimulator()\n",
    "result = device.run(binary_circuit, shots=1000).result()\n",
    "counts = result.measurement_counts\n",
    "print(counts)\n",
    "plt.bar(counts.keys(), counts.values());\n",
    "plt.xlabel('states');\n",
    "plt.ylabel('counts');"
   ]
  },
  {
   "cell_type": "code",
   "execution_count": null,
   "id": "807bb6c3",
   "metadata": {},
   "outputs": [],
   "source": []
  },
  {
   "cell_type": "markdown",
   "id": "1fff0672",
   "metadata": {},
   "source": [
    "#### 5. Running a circuit on a simulator device"
   ]
  },
  {
   "cell_type": "code",
   "execution_count": null,
   "id": "753e9600",
   "metadata": {},
   "outputs": [],
   "source": [
    "# Enter the S3 bucket you created during onboarding in the code below\n",
    "my_bucket = \"amazon-braket-[your bucket]\" # the name of the bucket\n",
    "my_prefix = \"[your folder]\" # the name of the folder in the bucket\n",
    "s3_folder = (my_bucket, my_prefix)"
   ]
  },
  {
   "cell_type": "code",
   "execution_count": 30,
   "id": "a68ce70a",
   "metadata": {},
   "outputs": [],
   "source": [
    "def run_circuit(device, circuit, shots, s3_folder):\n",
    "    import matplotlib.pyplot as plt\n",
    "    %matplotlib inline\n",
    "    result = device.run(circuit, shots=shots, s3_destination_folder=s3_folder).result()\n",
    "    counts = result.measurement_counts\n",
    "    print(counts)\n",
    "    plt.bar(counts.keys(), counts.values());\n",
    "    plt.xlabel('states');\n",
    "    plt.ylabel('counts');\n",
    "    return(result)"
   ]
  },
  {
   "cell_type": "code",
   "execution_count": 31,
   "id": "93287cfa",
   "metadata": {},
   "outputs": [],
   "source": [
    "def actual_simulator_cost(device, result):\n",
    "        price_per_min=device.properties.service.deviceCost.price\n",
    "        price_per_ms=price_per_min/60/1000\n",
    "        unit=device.properties.service.deviceCost.unit\n",
    "        duration_ms=result.additional_metadata.simulatorMetadata.executionDuration\n",
    "        if unit=='minute':\n",
    "            print('simulator cost per ',unit,': $', price_per_min)\n",
    "            print('total execution time: ', duration_ms, \"ms\")\n",
    "            print('total cost estimated: $',duration_ms*price_per_ms)"
   ]
  },
  {
   "cell_type": "markdown",
   "id": "08428284",
   "metadata": {},
   "source": [
    "Lets use this function to get the cost for a sample run on SV1"
   ]
  },
  {
   "cell_type": "code",
   "execution_count": 32,
   "id": "697f0e87",
   "metadata": {},
   "outputs": [
    {
     "name": "stdout",
     "output_type": "stream",
     "text": [
      "qubit count:  12\n",
      "101101010000\n",
      "T   : |0|\n",
      "         \n",
      "q0  : -X-\n",
      "         \n",
      "q1  : -I-\n",
      "         \n",
      "q2  : -X-\n",
      "         \n",
      "q3  : -X-\n",
      "         \n",
      "q4  : -I-\n",
      "         \n",
      "q5  : -X-\n",
      "         \n",
      "q6  : -I-\n",
      "         \n",
      "q7  : -X-\n",
      "         \n",
      "q8  : -I-\n",
      "         \n",
      "q9  : -I-\n",
      "         \n",
      "q10 : -I-\n",
      "         \n",
      "q11 : -I-\n",
      "\n",
      "T   : |0|\n"
     ]
    }
   ],
   "source": [
    "N=2896\n",
    "qubit_count=len(bin(N))-2\n",
    "print('qubit count: ', qubit_count)\n",
    "binary_circuit=build_binary_circ(N)\n",
    "print(binary_circuit)"
   ]
  },
  {
   "cell_type": "code",
   "execution_count": 33,
   "id": "9a5c6fe1",
   "metadata": {},
   "outputs": [
    {
     "name": "stdout",
     "output_type": "stream",
     "text": [
      "Device('name': SV1, 'arn': arn:aws:braket:::device/quantum-simulator/amazon/sv1)\n",
      "max shots: 100000\n",
      "for 12 measured qubits the maximum allowed shots: 100,000\n",
      "simulator cost per  minute : $ 0.075\n",
      "total cost cannot be estimated\n"
     ]
    }
   ],
   "source": [
    "device=set_device('SV1')\n",
    "estimate_cost_measured_qubits(device, qubit_count)"
   ]
  },
  {
   "cell_type": "code",
   "execution_count": 34,
   "id": "74c0250e",
   "metadata": {},
   "outputs": [
    {
     "name": "stdout",
     "output_type": "stream",
     "text": [
      "Counter({'101101010000': 10})\n"
     ]
    },
    {
     "data": {
      "image/png": "[encoded data removed]",
      "text/plain": [
       "<Figure size 432x288 with 1 Axes>"
      ]
     },
     "metadata": {
      "needs_background": "light"
     },
     "output_type": "display_data"
    }
   ],
   "source": [
    "result=run_circuit(device, binary_circuit, 10, s3_folder)"
   ]
  },
  {
   "cell_type": "code",
   "execution_count": 35,
   "id": "53053495",
   "metadata": {},
   "outputs": [
    {
     "name": "stdout",
     "output_type": "stream",
     "text": [
      "simulator cost per  minute : $ 0.075\n",
      "total execution time:  4 ms\n",
      "total cost estimated: $ 5e-06\n"
     ]
    }
   ],
   "source": [
    "actual_simulator_cost(device, result)"
   ]
  },
  {
   "cell_type": "code",
   "execution_count": null,
   "id": "dd9b84c2",
   "metadata": {},
   "outputs": [],
   "source": []
  }
 ],
 "metadata": {
  "kernelspec": {
   "display_name": "Python 3 (ipykernel)",
   "language": "python",
   "name": "python3"
  },
  "language_info": {
   "codemirror_mode": {
    "name": "ipython",
    "version": 3
   },
   "file_extension": ".py",
   "mimetype": "text/x-python",
   "name": "python",
   "nbconvert_exporter": "python",
   "pygments_lexer": "ipython3",
   "version": "3.9.7"
  }
 },
 "nbformat": 4,
 "nbformat_minor": 5
}
